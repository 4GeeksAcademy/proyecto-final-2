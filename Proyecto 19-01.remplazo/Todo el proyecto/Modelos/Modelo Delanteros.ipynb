{
 "cells": [
  {
   "cell_type": "code",
   "execution_count": 165,
   "metadata": {},
   "outputs": [],
   "source": [
    "import pandas as pd\n",
    "import numpy as np"
   ]
  },
  {
   "cell_type": "code",
   "execution_count": 166,
   "metadata": {},
   "outputs": [],
   "source": [
    "Data = pd.read_csv(r\"D:\\ALGORITMO RECLUTADOR\\Proyecto 19-01.remplazo\\Todo el proyecto\\Data Posición\\Delanteros.csv\")\n",
    "pd.set_option('display.max_columns', None)"
   ]
  },
  {
   "cell_type": "code",
   "execution_count": 167,
   "metadata": {},
   "outputs": [
    {
     "name": "stdout",
     "output_type": "stream",
     "text": [
      "0.18639075753144194\n",
      "0.0\n",
      "1.04\n",
      "----------------------------------------------------------------------------------------------------\n",
      "45.05929804036268\n",
      "0.0\n",
      "100.0\n",
      "----------------------------------------------------------------------------------------------------\n",
      "1.40068733547821\n",
      "0.0\n",
      "5.5\n",
      "----------------------------------------------------------------------------------------------------\n",
      "0.16380228136882127\n",
      "0.0\n",
      "1.0\n"
     ]
    }
   ],
   "source": [
    "Goals_media = Data[\"Goals\"].mean()\n",
    "Goals_min = Data[\"Goals\"].min()\n",
    "Goals_max = Data[\"Goals\"].max()\n",
    "print(Goals_media)\n",
    "print(Goals_min)\n",
    "print(Goals_max)\n",
    "\n",
    "print(\"-\"*100)\n",
    "\n",
    "Successful_media = Data[\"Successful dribbles %\"].mean()\n",
    "Successful_min = Data[\"Successful dribbles %\"].min()\n",
    "Successful_max = Data[\"Successful dribbles %\"].max()\n",
    "print(Successful_media)\n",
    "print(Successful_min)\n",
    "print(Successful_max)\n",
    "\n",
    "print(\"-\"*100)\n",
    "\n",
    "shots_media = Data[\"Total shots\"].mean()\n",
    "shots_min = Data[\"Total shots\"].min()\n",
    "shots_max = Data[\"Total shots\"].max()\n",
    "print(shots_media)\n",
    "print(shots_min)\n",
    "print(shots_max)\n",
    "\n",
    "print(\"-\"*100)\n",
    "\n",
    "missed_media = Data[\"Big chances missed\"].mean()\n",
    "missed_min = Data[\"Big chances missed\"].min()\n",
    "missed_max = Data[\"Big chances missed\"].max()\n",
    "print(missed_media)\n",
    "print(missed_min)\n",
    "print(missed_max)\n"
   ]
  },
  {
   "cell_type": "code",
   "execution_count": 168,
   "metadata": {},
   "outputs": [],
   "source": [
    "import pandas as pd\n",
    "from sklearn.neighbors import NearestNeighbors\n",
    "from sklearn.preprocessing import StandardScaler\n",
    "import plotly.graph_objects as go\n",
    "import unicodedata\n",
    "import matplotlib.pyplot as plt\n",
    "\n",
    "\n",
    "Columna_habilidades = Data.columns.drop([\"Name\", \"League\"])\n",
    "\n",
    "features = Data[Columna_habilidades]\n",
    "\n",
    "# Crea un objeto StandardScaler\n",
    "scaler = StandardScaler()\n",
    "\n",
    "# Ajusta el escalador a tus datos y luego transforma tus datos\n",
    "features_scaled = scaler.fit_transform(features)\n",
    "\n",
    "# Inicializa el modelo NearestNeighbors\n",
    "model = NearestNeighbors(n_neighbors=6)  # Buscamos 6 vecinos porque uno de ellos será el jugador mismo\n",
    "\n",
    "# Ajusta el modelo a tus datos\n",
    "model.fit(features_scaled)\n",
    "\n",
    "caracteristicas_grafico = ['Goals', 'Big chances missed', 'Successful dribbles %', 'Total shots', 'Headed goals', 'Set piece conversion %', 'Assists']\n",
    "\n",
    "# Función para normalizar nombres (ignorar mayúsculas y acentos)\n",
    "def normalizar_nombre(nombre):\n",
    "    nombre = nombre.lower()\n",
    "    nombre = unicodedata.normalize('NFD', nombre)\n",
    "    nombre = nombre.encode('ascii', 'ignore').decode(\"utf-8\")\n",
    "    return nombre\n",
    "\n",
    "def buscar_jugadores_similares(nombre, caracteristicas_grafico):\n",
    "    # Normaliza el nombre que buscas\n",
    "    nombre_normalizado = normalizar_nombre(nombre)\n",
    "\n",
    "    # Aplica la normalización a los nombres en el conjunto de datos\n",
    "    Data['Name_Normalized'] = Data['Name'].apply(normalizar_nombre)\n",
    "\n",
    "    # Busca el jugador con el nombre normalizado\n",
    "    jugador = Data[Data['Name_Normalized'] == nombre_normalizado]\n",
    "\n",
    "    if len(jugador) == 0:\n",
    "        return 'Jugador no encontrado'\n",
    "    else:\n",
    "        jugador_scaled = scaler.transform(jugador[features.columns])\n",
    "        distancias, indices = model.kneighbors(jugador_scaled)\n",
    "        jugadores_similares = Data.iloc[indices[0]]  # Excluimos el primer resultado porque será el jugador mismo\n",
    "\n",
    "        display(jugadores_similares)\n",
    "\n",
    "        # Escala todas las características de los jugadores similares\n",
    "        jugadores_similares_scaled = scaler.transform(jugadores_similares[features.columns])\n",
    "\n",
    "        # Define una lista de colores\n",
    "        colores = ['blue', 'green', 'red', 'cyan', 'magenta', 'yellow', 'black']\n",
    "\n",
    "        # Crea un gráfico de radar para cada jugador similar\n",
    "        fig = go.Figure()\n",
    "        for i, row in enumerate(jugadores_similares_scaled):\n",
    "            color = colores[i % len(colores)]  # Elige un color de la lista\n",
    "            fig.add_trace(go.Scatterpolar(\n",
    "                r=row[features.columns.isin(caracteristicas_grafico)],\n",
    "                theta=caracteristicas_grafico,\n",
    "                fill='toself',\n",
    "                name=jugadores_similares.iloc[i]['Name'],\n",
    "                line=dict(color=color)\n",
    "            ))\n",
    "\n",
    "        fig.update_layout(\n",
    "            autosize=False,\n",
    "            width=800,\n",
    "            height=800,\n",
    "            polar=dict(\n",
    "                radialaxis=dict(\n",
    "                    visible=True,\n",
    "                    range=[-2, 6]  # Ajusta este rango según tus datos\n",
    "                )),\n",
    "            showlegend=True\n",
    "        )\n",
    "        fig.show()\n",
    "        \n",
    "       # Configura una cuadrícula de subplots con 2 filas y 2 columnas\n",
    "        fig, axs = plt.subplots(2, 2, figsize=(20, 12))  # Ajusta el tamaño según sea necesario\n",
    "\n",
    "        # Gráfico de dispersión para la media-Goals\n",
    "        for i, name in enumerate(jugadores_similares['Name']):\n",
    "            axs[0, 0].scatter(i, jugadores_similares.loc[jugadores_similares['Name'] == name, 'Goals'], color=colores[i % len(colores)], marker='o')\n",
    "        for line in [Goals_max, Goals_media, Goals_min]:\n",
    "            axs[0, 0].axhline(y=line, color='r', linestyle='--')\n",
    "        axs[0, 0].set_title('Comparativa de Goals de los jugadores similares')\n",
    "        axs[0, 0].set_xticks(range(len(jugadores_similares)))\n",
    "        axs[0, 0].set_xticklabels(jugadores_similares['Name'], rotation=45)\n",
    "        axs[0, 0].set_xlabel('Jugadores')\n",
    "        axs[0, 0].set_ylabel('Goals')\n",
    "\n",
    "        # Gráfico de dispersión para la media-Successful\n",
    "        for i, name in enumerate(jugadores_similares['Name']):\n",
    "            axs[0, 1].scatter(i, jugadores_similares.loc[jugadores_similares['Name'] == name, 'Successful dribbles %'], color=colores[i % len(colores)], marker='o')\n",
    "        for line in [Successful_max, Successful_media, Successful_min]:\n",
    "            axs[0, 1].axhline(y=line, color='r', linestyle='--')\n",
    "        axs[0, 1].set_title('Comparativa de Successful de los jugadores similares')\n",
    "        axs[0, 1].set_xticks(range(len(jugadores_similares)))\n",
    "        axs[0, 1].set_xticklabels(jugadores_similares['Name'], rotation=45)\n",
    "        axs[0, 1].set_xlabel('Jugadores')\n",
    "        axs[0, 1].set_ylabel('Successful')\n",
    "\n",
    "        # Gráfico de dispersión para la media-shots\n",
    "        for i, name in enumerate(jugadores_similares['Name']):\n",
    "            axs[1, 0].scatter(i, jugadores_similares.loc[jugadores_similares['Name'] == name, 'Total shots'], color=colores[i % len(colores)], marker='o')\n",
    "        for line in [shots_max, shots_media, shots_min]:\n",
    "            axs[1, 0].axhline(y=line, color='r', linestyle='--')\n",
    "        axs[1, 0].set_title('Comparativa de shots de los jugadores similares')\n",
    "        axs[1, 0].set_xticks(range(len(jugadores_similares)))\n",
    "        axs[1, 0].set_xticklabels(jugadores_similares['Name'], rotation=45)\n",
    "        axs[1, 0].set_xlabel('Jugadores')\n",
    "        axs[1, 0].set_ylabel('shots')\n",
    "\n",
    "        # Gráfico de dispersión para la media-missed\n",
    "        for i, name in enumerate(jugadores_similares['Name']):\n",
    "            axs[1, 1].scatter(i, jugadores_similares.loc[jugadores_similares['Name'] == name, 'Big chances missed'], color=colores[i % len(colores)], marker='o')\n",
    "        for line in [missed_max, missed_media, missed_min]:\n",
    "            axs[1, 1].axhline(y=line, color='r', linestyle='--')\n",
    "        axs[1, 1].set_title('Comparativa de missed de los jugadores similares')\n",
    "        axs[1, 1].set_xticks(range(len(jugadores_similares)))\n",
    "        axs[1, 1].set_xticklabels(jugadores_similares['Name'], rotation=45)\n",
    "        axs[1, 1].set_xlabel('Jugadores')\n",
    "        axs[1, 1].set_ylabel('missed')\n",
    "\n",
    "        # Ajusta el layout para que no haya superposición de elementos\n",
    "        plt.tight_layout()\n",
    "        plt.show()\n",
    "\n",
    "\n",
    "        return "
   ]
  },
  {
   "cell_type": "code",
   "execution_count": 169,
   "metadata": {},
   "outputs": [
    {
     "data": {
      "text/html": [
       "<div>\n",
       "<style scoped>\n",
       "    .dataframe tbody tr th:only-of-type {\n",
       "        vertical-align: middle;\n",
       "    }\n",
       "\n",
       "    .dataframe tbody tr th {\n",
       "        vertical-align: top;\n",
       "    }\n",
       "\n",
       "    .dataframe thead th {\n",
       "        text-align: right;\n",
       "    }\n",
       "</style>\n",
       "<table border=\"1\" class=\"dataframe\">\n",
       "  <thead>\n",
       "    <tr style=\"text-align: right;\">\n",
       "      <th></th>\n",
       "      <th>Name</th>\n",
       "      <th>Goals</th>\n",
       "      <th>Big chances missed</th>\n",
       "      <th>Successful dribbles %</th>\n",
       "      <th>Total shots</th>\n",
       "      <th>Headed goals</th>\n",
       "      <th>Set piece conversion %</th>\n",
       "      <th>Interceptions</th>\n",
       "      <th>Big chances created</th>\n",
       "      <th>Assists</th>\n",
       "      <th>Accurate passes %</th>\n",
       "      <th>Aerial duels won %</th>\n",
       "      <th>Total duels won %</th>\n",
       "      <th>Was fouled</th>\n",
       "      <th>Appearances</th>\n",
       "      <th>Age Range</th>\n",
       "      <th>Position</th>\n",
       "      <th>League</th>\n",
       "      <th>Level</th>\n",
       "      <th>Name_Normalized</th>\n",
       "    </tr>\n",
       "  </thead>\n",
       "  <tbody>\n",
       "    <tr>\n",
       "      <th>3220</th>\n",
       "      <td>Karim Benzema</td>\n",
       "      <td>0.79</td>\n",
       "      <td>0.75</td>\n",
       "      <td>47.62</td>\n",
       "      <td>4.46</td>\n",
       "      <td>0.04</td>\n",
       "      <td>0.69</td>\n",
       "      <td>0.08</td>\n",
       "      <td>0.58</td>\n",
       "      <td>0.13</td>\n",
       "      <td>87.04</td>\n",
       "      <td>51.85</td>\n",
       "      <td>37.98</td>\n",
       "      <td>0.25</td>\n",
       "      <td>24</td>\n",
       "      <td>3</td>\n",
       "      <td>4</td>\n",
       "      <td>España La Liga 1</td>\n",
       "      <td>1</td>\n",
       "      <td>karim benzema</td>\n",
       "    </tr>\n",
       "    <tr>\n",
       "      <th>336</th>\n",
       "      <td>Kylian Mbappé</td>\n",
       "      <td>0.85</td>\n",
       "      <td>0.82</td>\n",
       "      <td>40.44</td>\n",
       "      <td>4.38</td>\n",
       "      <td>0.03</td>\n",
       "      <td>0.00</td>\n",
       "      <td>0.15</td>\n",
       "      <td>0.50</td>\n",
       "      <td>0.15</td>\n",
       "      <td>82.95</td>\n",
       "      <td>61.54</td>\n",
       "      <td>41.77</td>\n",
       "      <td>1.18</td>\n",
       "      <td>34</td>\n",
       "      <td>2</td>\n",
       "      <td>4</td>\n",
       "      <td>Francia Liga 1</td>\n",
       "      <td>2</td>\n",
       "      <td>kylian mbappe</td>\n",
       "    </tr>\n",
       "    <tr>\n",
       "      <th>3221</th>\n",
       "      <td>Robert Lewandowski</td>\n",
       "      <td>0.68</td>\n",
       "      <td>0.79</td>\n",
       "      <td>53.57</td>\n",
       "      <td>3.97</td>\n",
       "      <td>0.03</td>\n",
       "      <td>0.00</td>\n",
       "      <td>0.06</td>\n",
       "      <td>0.32</td>\n",
       "      <td>0.21</td>\n",
       "      <td>78.08</td>\n",
       "      <td>53.06</td>\n",
       "      <td>47.23</td>\n",
       "      <td>1.35</td>\n",
       "      <td>34</td>\n",
       "      <td>3</td>\n",
       "      <td>4</td>\n",
       "      <td>España La Liga 1</td>\n",
       "      <td>1</td>\n",
       "      <td>robert lewandowski</td>\n",
       "    </tr>\n",
       "    <tr>\n",
       "      <th>2721</th>\n",
       "      <td>Christopher Nkunku</td>\n",
       "      <td>0.64</td>\n",
       "      <td>0.68</td>\n",
       "      <td>58.46</td>\n",
       "      <td>2.96</td>\n",
       "      <td>0.08</td>\n",
       "      <td>1.14</td>\n",
       "      <td>0.32</td>\n",
       "      <td>0.32</td>\n",
       "      <td>0.16</td>\n",
       "      <td>81.85</td>\n",
       "      <td>39.53</td>\n",
       "      <td>46.23</td>\n",
       "      <td>1.48</td>\n",
       "      <td>25</td>\n",
       "      <td>2</td>\n",
       "      <td>4</td>\n",
       "      <td>Alemania Bundesliga 1</td>\n",
       "      <td>1</td>\n",
       "      <td>christopher nkunku</td>\n",
       "    </tr>\n",
       "    <tr>\n",
       "      <th>1962</th>\n",
       "      <td>Quincy Promes</td>\n",
       "      <td>0.74</td>\n",
       "      <td>0.41</td>\n",
       "      <td>50.00</td>\n",
       "      <td>3.67</td>\n",
       "      <td>0.07</td>\n",
       "      <td>0.00</td>\n",
       "      <td>0.07</td>\n",
       "      <td>0.48</td>\n",
       "      <td>0.26</td>\n",
       "      <td>83.29</td>\n",
       "      <td>40.00</td>\n",
       "      <td>43.11</td>\n",
       "      <td>0.74</td>\n",
       "      <td>27</td>\n",
       "      <td>3</td>\n",
       "      <td>4</td>\n",
       "      <td>Rusia Premier Liga</td>\n",
       "      <td>4</td>\n",
       "      <td>quincy promes</td>\n",
       "    </tr>\n",
       "    <tr>\n",
       "      <th>1728</th>\n",
       "      <td>Mehdi Taremi</td>\n",
       "      <td>0.67</td>\n",
       "      <td>0.52</td>\n",
       "      <td>50.00</td>\n",
       "      <td>2.91</td>\n",
       "      <td>0.06</td>\n",
       "      <td>0.00</td>\n",
       "      <td>0.24</td>\n",
       "      <td>0.33</td>\n",
       "      <td>0.21</td>\n",
       "      <td>75.03</td>\n",
       "      <td>52.14</td>\n",
       "      <td>49.52</td>\n",
       "      <td>1.27</td>\n",
       "      <td>33</td>\n",
       "      <td>3</td>\n",
       "      <td>4</td>\n",
       "      <td>Liga Portugal</td>\n",
       "      <td>2</td>\n",
       "      <td>mehdi taremi</td>\n",
       "    </tr>\n",
       "  </tbody>\n",
       "</table>\n",
       "</div>"
      ],
      "text/plain": [
       "                    Name  Goals  Big chances missed  Successful dribbles %  \\\n",
       "3220       Karim Benzema   0.79                0.75                  47.62   \n",
       "336        Kylian Mbappé   0.85                0.82                  40.44   \n",
       "3221  Robert Lewandowski   0.68                0.79                  53.57   \n",
       "2721  Christopher Nkunku   0.64                0.68                  58.46   \n",
       "1962       Quincy Promes   0.74                0.41                  50.00   \n",
       "1728        Mehdi Taremi   0.67                0.52                  50.00   \n",
       "\n",
       "      Total shots  Headed goals  Set piece conversion %  Interceptions  \\\n",
       "3220         4.46          0.04                    0.69           0.08   \n",
       "336          4.38          0.03                    0.00           0.15   \n",
       "3221         3.97          0.03                    0.00           0.06   \n",
       "2721         2.96          0.08                    1.14           0.32   \n",
       "1962         3.67          0.07                    0.00           0.07   \n",
       "1728         2.91          0.06                    0.00           0.24   \n",
       "\n",
       "      Big chances created  Assists  Accurate passes %  Aerial duels won %  \\\n",
       "3220                 0.58     0.13              87.04               51.85   \n",
       "336                  0.50     0.15              82.95               61.54   \n",
       "3221                 0.32     0.21              78.08               53.06   \n",
       "2721                 0.32     0.16              81.85               39.53   \n",
       "1962                 0.48     0.26              83.29               40.00   \n",
       "1728                 0.33     0.21              75.03               52.14   \n",
       "\n",
       "      Total duels won %  Was fouled  Appearances  Age Range  Position  \\\n",
       "3220              37.98        0.25           24          3         4   \n",
       "336               41.77        1.18           34          2         4   \n",
       "3221              47.23        1.35           34          3         4   \n",
       "2721              46.23        1.48           25          2         4   \n",
       "1962              43.11        0.74           27          3         4   \n",
       "1728              49.52        1.27           33          3         4   \n",
       "\n",
       "                     League  Level     Name_Normalized  \n",
       "3220       España La Liga 1      1       karim benzema  \n",
       "336          Francia Liga 1      2       kylian mbappe  \n",
       "3221       España La Liga 1      1  robert lewandowski  \n",
       "2721  Alemania Bundesliga 1      1  christopher nkunku  \n",
       "1962     Rusia Premier Liga      4       quincy promes  \n",
       "1728          Liga Portugal      2        mehdi taremi  "
      ]
     },
     "metadata": {},
     "output_type": "display_data"
    },
    {
     "data": {
      "application/vnd.plotly.v1+json": {
       "config": {
        "plotlyServerURL": "https://plot.ly"
       },
       "data": [
        {
         "fill": "toself",
         "line": {
          "color": "blue"
         },
         "name": "Karim Benzema",
         "r": [
          3.7864294982032236,
          4.282254885540076,
          0.16488450284671133,
          4.139357510938745,
          0.1962872591786945,
          2.251267351996439,
          0.7244749999137021
         ],
         "theta": [
          "Goals",
          "Big chances missed",
          "Successful dribbles %",
          "Total shots",
          "Headed goals",
          "Set piece conversion %",
          "Assists"
         ],
         "type": "scatterpolar"
        },
        {
         "fill": "toself",
         "line": {
          "color": "green"
         },
         "name": "Kylian Mbappé",
         "r": [
          4.162808376967704,
          4.793614504420486,
          -0.2974382309583045,
          4.0311147004815595,
          -0.009258265823436158,
          -0.139012777607514,
          0.9813431970209245
         ],
         "theta": [
          "Goals",
          "Big chances missed",
          "Successful dribbles %",
          "Total shots",
          "Headed goals",
          "Set piece conversion %",
          "Assists"
         ],
         "type": "scatterpolar"
        },
        {
         "fill": "toself",
         "line": {
          "color": "red"
         },
         "name": "Robert Lewandowski",
         "r": [
          3.096401553801676,
          4.574460382043168,
          0.548007102587637,
          3.476370296888484,
          -0.009258265823436158,
          -0.139012777607514,
          1.7519477883425922
         ],
         "theta": [
          "Goals",
          "Big chances missed",
          "Successful dribbles %",
          "Total shots",
          "Headed goals",
          "Set piece conversion %",
          "Assists"
         ],
         "type": "scatterpolar"
        },
        {
         "fill": "toself",
         "line": {
          "color": "cyan"
         },
         "name": "Christopher Nkunku",
         "r": [
          2.845482301292022,
          3.7708952666596662,
          0.8628759282570697,
          2.109804814866515,
          1.018469359187217,
          3.8101456973903214,
          1.109777295574536
         ],
         "theta": [
          "Goals",
          "Big chances missed",
          "Successful dribbles %",
          "Total shots",
          "Headed goals",
          "Set piece conversion %",
          "Assists"
         ],
         "type": "scatterpolar"
        },
        {
         "fill": "toself",
         "line": {
          "color": "magenta"
         },
         "name": "Quincy Promes",
         "r": [
          3.4727804325661564,
          1.7985081652637989,
          0.31813354274308164,
          3.0704597576740373,
          0.8129238341850865,
          -0.139012777607514,
          2.3941182811106487
         ],
         "theta": [
          "Goals",
          "Big chances missed",
          "Successful dribbles %",
          "Total shots",
          "Headed goals",
          "Set piece conversion %",
          "Assists"
         ],
         "type": "scatterpolar"
        },
        {
         "fill": "toself",
         "line": {
          "color": "yellow"
         },
         "name": "Mehdi Taremi",
         "r": [
          3.0336717406742624,
          2.602073280647301,
          0.31813354274308164,
          2.0421530583307743,
          0.6073783091829557,
          -0.139012777607514,
          1.7519477883425922
         ],
         "theta": [
          "Goals",
          "Big chances missed",
          "Successful dribbles %",
          "Total shots",
          "Headed goals",
          "Set piece conversion %",
          "Assists"
         ],
         "type": "scatterpolar"
        }
       ],
       "layout": {
        "autosize": false,
        "height": 800,
        "polar": {
         "radialaxis": {
          "range": [
           -2,
           6
          ],
          "visible": true
         }
        },
        "showlegend": true,
        "template": {
         "data": {
          "bar": [
           {
            "error_x": {
             "color": "#2a3f5f"
            },
            "error_y": {
             "color": "#2a3f5f"
            },
            "marker": {
             "line": {
              "color": "#E5ECF6",
              "width": 0.5
             },
             "pattern": {
              "fillmode": "overlay",
              "size": 10,
              "solidity": 0.2
             }
            },
            "type": "bar"
           }
          ],
          "barpolar": [
           {
            "marker": {
             "line": {
              "color": "#E5ECF6",
              "width": 0.5
             },
             "pattern": {
              "fillmode": "overlay",
              "size": 10,
              "solidity": 0.2
             }
            },
            "type": "barpolar"
           }
          ],
          "carpet": [
           {
            "aaxis": {
             "endlinecolor": "#2a3f5f",
             "gridcolor": "white",
             "linecolor": "white",
             "minorgridcolor": "white",
             "startlinecolor": "#2a3f5f"
            },
            "baxis": {
             "endlinecolor": "#2a3f5f",
             "gridcolor": "white",
             "linecolor": "white",
             "minorgridcolor": "white",
             "startlinecolor": "#2a3f5f"
            },
            "type": "carpet"
           }
          ],
          "choropleth": [
           {
            "colorbar": {
             "outlinewidth": 0,
             "ticks": ""
            },
            "type": "choropleth"
           }
          ],
          "contour": [
           {
            "colorbar": {
             "outlinewidth": 0,
             "ticks": ""
            },
            "colorscale": [
             [
              0,
              "#0d0887"
             ],
             [
              0.1111111111111111,
              "#46039f"
             ],
             [
              0.2222222222222222,
              "#7201a8"
             ],
             [
              0.3333333333333333,
              "#9c179e"
             ],
             [
              0.4444444444444444,
              "#bd3786"
             ],
             [
              0.5555555555555556,
              "#d8576b"
             ],
             [
              0.6666666666666666,
              "#ed7953"
             ],
             [
              0.7777777777777778,
              "#fb9f3a"
             ],
             [
              0.8888888888888888,
              "#fdca26"
             ],
             [
              1,
              "#f0f921"
             ]
            ],
            "type": "contour"
           }
          ],
          "contourcarpet": [
           {
            "colorbar": {
             "outlinewidth": 0,
             "ticks": ""
            },
            "type": "contourcarpet"
           }
          ],
          "heatmap": [
           {
            "colorbar": {
             "outlinewidth": 0,
             "ticks": ""
            },
            "colorscale": [
             [
              0,
              "#0d0887"
             ],
             [
              0.1111111111111111,
              "#46039f"
             ],
             [
              0.2222222222222222,
              "#7201a8"
             ],
             [
              0.3333333333333333,
              "#9c179e"
             ],
             [
              0.4444444444444444,
              "#bd3786"
             ],
             [
              0.5555555555555556,
              "#d8576b"
             ],
             [
              0.6666666666666666,
              "#ed7953"
             ],
             [
              0.7777777777777778,
              "#fb9f3a"
             ],
             [
              0.8888888888888888,
              "#fdca26"
             ],
             [
              1,
              "#f0f921"
             ]
            ],
            "type": "heatmap"
           }
          ],
          "heatmapgl": [
           {
            "colorbar": {
             "outlinewidth": 0,
             "ticks": ""
            },
            "colorscale": [
             [
              0,
              "#0d0887"
             ],
             [
              0.1111111111111111,
              "#46039f"
             ],
             [
              0.2222222222222222,
              "#7201a8"
             ],
             [
              0.3333333333333333,
              "#9c179e"
             ],
             [
              0.4444444444444444,
              "#bd3786"
             ],
             [
              0.5555555555555556,
              "#d8576b"
             ],
             [
              0.6666666666666666,
              "#ed7953"
             ],
             [
              0.7777777777777778,
              "#fb9f3a"
             ],
             [
              0.8888888888888888,
              "#fdca26"
             ],
             [
              1,
              "#f0f921"
             ]
            ],
            "type": "heatmapgl"
           }
          ],
          "histogram": [
           {
            "marker": {
             "pattern": {
              "fillmode": "overlay",
              "size": 10,
              "solidity": 0.2
             }
            },
            "type": "histogram"
           }
          ],
          "histogram2d": [
           {
            "colorbar": {
             "outlinewidth": 0,
             "ticks": ""
            },
            "colorscale": [
             [
              0,
              "#0d0887"
             ],
             [
              0.1111111111111111,
              "#46039f"
             ],
             [
              0.2222222222222222,
              "#7201a8"
             ],
             [
              0.3333333333333333,
              "#9c179e"
             ],
             [
              0.4444444444444444,
              "#bd3786"
             ],
             [
              0.5555555555555556,
              "#d8576b"
             ],
             [
              0.6666666666666666,
              "#ed7953"
             ],
             [
              0.7777777777777778,
              "#fb9f3a"
             ],
             [
              0.8888888888888888,
              "#fdca26"
             ],
             [
              1,
              "#f0f921"
             ]
            ],
            "type": "histogram2d"
           }
          ],
          "histogram2dcontour": [
           {
            "colorbar": {
             "outlinewidth": 0,
             "ticks": ""
            },
            "colorscale": [
             [
              0,
              "#0d0887"
             ],
             [
              0.1111111111111111,
              "#46039f"
             ],
             [
              0.2222222222222222,
              "#7201a8"
             ],
             [
              0.3333333333333333,
              "#9c179e"
             ],
             [
              0.4444444444444444,
              "#bd3786"
             ],
             [
              0.5555555555555556,
              "#d8576b"
             ],
             [
              0.6666666666666666,
              "#ed7953"
             ],
             [
              0.7777777777777778,
              "#fb9f3a"
             ],
             [
              0.8888888888888888,
              "#fdca26"
             ],
             [
              1,
              "#f0f921"
             ]
            ],
            "type": "histogram2dcontour"
           }
          ],
          "mesh3d": [
           {
            "colorbar": {
             "outlinewidth": 0,
             "ticks": ""
            },
            "type": "mesh3d"
           }
          ],
          "parcoords": [
           {
            "line": {
             "colorbar": {
              "outlinewidth": 0,
              "ticks": ""
             }
            },
            "type": "parcoords"
           }
          ],
          "pie": [
           {
            "automargin": true,
            "type": "pie"
           }
          ],
          "scatter": [
           {
            "fillpattern": {
             "fillmode": "overlay",
             "size": 10,
             "solidity": 0.2
            },
            "type": "scatter"
           }
          ],
          "scatter3d": [
           {
            "line": {
             "colorbar": {
              "outlinewidth": 0,
              "ticks": ""
             }
            },
            "marker": {
             "colorbar": {
              "outlinewidth": 0,
              "ticks": ""
             }
            },
            "type": "scatter3d"
           }
          ],
          "scattercarpet": [
           {
            "marker": {
             "colorbar": {
              "outlinewidth": 0,
              "ticks": ""
             }
            },
            "type": "scattercarpet"
           }
          ],
          "scattergeo": [
           {
            "marker": {
             "colorbar": {
              "outlinewidth": 0,
              "ticks": ""
             }
            },
            "type": "scattergeo"
           }
          ],
          "scattergl": [
           {
            "marker": {
             "colorbar": {
              "outlinewidth": 0,
              "ticks": ""
             }
            },
            "type": "scattergl"
           }
          ],
          "scattermapbox": [
           {
            "marker": {
             "colorbar": {
              "outlinewidth": 0,
              "ticks": ""
             }
            },
            "type": "scattermapbox"
           }
          ],
          "scatterpolar": [
           {
            "marker": {
             "colorbar": {
              "outlinewidth": 0,
              "ticks": ""
             }
            },
            "type": "scatterpolar"
           }
          ],
          "scatterpolargl": [
           {
            "marker": {
             "colorbar": {
              "outlinewidth": 0,
              "ticks": ""
             }
            },
            "type": "scatterpolargl"
           }
          ],
          "scatterternary": [
           {
            "marker": {
             "colorbar": {
              "outlinewidth": 0,
              "ticks": ""
             }
            },
            "type": "scatterternary"
           }
          ],
          "surface": [
           {
            "colorbar": {
             "outlinewidth": 0,
             "ticks": ""
            },
            "colorscale": [
             [
              0,
              "#0d0887"
             ],
             [
              0.1111111111111111,
              "#46039f"
             ],
             [
              0.2222222222222222,
              "#7201a8"
             ],
             [
              0.3333333333333333,
              "#9c179e"
             ],
             [
              0.4444444444444444,
              "#bd3786"
             ],
             [
              0.5555555555555556,
              "#d8576b"
             ],
             [
              0.6666666666666666,
              "#ed7953"
             ],
             [
              0.7777777777777778,
              "#fb9f3a"
             ],
             [
              0.8888888888888888,
              "#fdca26"
             ],
             [
              1,
              "#f0f921"
             ]
            ],
            "type": "surface"
           }
          ],
          "table": [
           {
            "cells": {
             "fill": {
              "color": "#EBF0F8"
             },
             "line": {
              "color": "white"
             }
            },
            "header": {
             "fill": {
              "color": "#C8D4E3"
             },
             "line": {
              "color": "white"
             }
            },
            "type": "table"
           }
          ]
         },
         "layout": {
          "annotationdefaults": {
           "arrowcolor": "#2a3f5f",
           "arrowhead": 0,
           "arrowwidth": 1
          },
          "autotypenumbers": "strict",
          "coloraxis": {
           "colorbar": {
            "outlinewidth": 0,
            "ticks": ""
           }
          },
          "colorscale": {
           "diverging": [
            [
             0,
             "#8e0152"
            ],
            [
             0.1,
             "#c51b7d"
            ],
            [
             0.2,
             "#de77ae"
            ],
            [
             0.3,
             "#f1b6da"
            ],
            [
             0.4,
             "#fde0ef"
            ],
            [
             0.5,
             "#f7f7f7"
            ],
            [
             0.6,
             "#e6f5d0"
            ],
            [
             0.7,
             "#b8e186"
            ],
            [
             0.8,
             "#7fbc41"
            ],
            [
             0.9,
             "#4d9221"
            ],
            [
             1,
             "#276419"
            ]
           ],
           "sequential": [
            [
             0,
             "#0d0887"
            ],
            [
             0.1111111111111111,
             "#46039f"
            ],
            [
             0.2222222222222222,
             "#7201a8"
            ],
            [
             0.3333333333333333,
             "#9c179e"
            ],
            [
             0.4444444444444444,
             "#bd3786"
            ],
            [
             0.5555555555555556,
             "#d8576b"
            ],
            [
             0.6666666666666666,
             "#ed7953"
            ],
            [
             0.7777777777777778,
             "#fb9f3a"
            ],
            [
             0.8888888888888888,
             "#fdca26"
            ],
            [
             1,
             "#f0f921"
            ]
           ],
           "sequentialminus": [
            [
             0,
             "#0d0887"
            ],
            [
             0.1111111111111111,
             "#46039f"
            ],
            [
             0.2222222222222222,
             "#7201a8"
            ],
            [
             0.3333333333333333,
             "#9c179e"
            ],
            [
             0.4444444444444444,
             "#bd3786"
            ],
            [
             0.5555555555555556,
             "#d8576b"
            ],
            [
             0.6666666666666666,
             "#ed7953"
            ],
            [
             0.7777777777777778,
             "#fb9f3a"
            ],
            [
             0.8888888888888888,
             "#fdca26"
            ],
            [
             1,
             "#f0f921"
            ]
           ]
          },
          "colorway": [
           "#636efa",
           "#EF553B",
           "#00cc96",
           "#ab63fa",
           "#FFA15A",
           "#19d3f3",
           "#FF6692",
           "#B6E880",
           "#FF97FF",
           "#FECB52"
          ],
          "font": {
           "color": "#2a3f5f"
          },
          "geo": {
           "bgcolor": "white",
           "lakecolor": "white",
           "landcolor": "#E5ECF6",
           "showlakes": true,
           "showland": true,
           "subunitcolor": "white"
          },
          "hoverlabel": {
           "align": "left"
          },
          "hovermode": "closest",
          "mapbox": {
           "style": "light"
          },
          "paper_bgcolor": "white",
          "plot_bgcolor": "#E5ECF6",
          "polar": {
           "angularaxis": {
            "gridcolor": "white",
            "linecolor": "white",
            "ticks": ""
           },
           "bgcolor": "#E5ECF6",
           "radialaxis": {
            "gridcolor": "white",
            "linecolor": "white",
            "ticks": ""
           }
          },
          "scene": {
           "xaxis": {
            "backgroundcolor": "#E5ECF6",
            "gridcolor": "white",
            "gridwidth": 2,
            "linecolor": "white",
            "showbackground": true,
            "ticks": "",
            "zerolinecolor": "white"
           },
           "yaxis": {
            "backgroundcolor": "#E5ECF6",
            "gridcolor": "white",
            "gridwidth": 2,
            "linecolor": "white",
            "showbackground": true,
            "ticks": "",
            "zerolinecolor": "white"
           },
           "zaxis": {
            "backgroundcolor": "#E5ECF6",
            "gridcolor": "white",
            "gridwidth": 2,
            "linecolor": "white",
            "showbackground": true,
            "ticks": "",
            "zerolinecolor": "white"
           }
          },
          "shapedefaults": {
           "line": {
            "color": "#2a3f5f"
           }
          },
          "ternary": {
           "aaxis": {
            "gridcolor": "white",
            "linecolor": "white",
            "ticks": ""
           },
           "baxis": {
            "gridcolor": "white",
            "linecolor": "white",
            "ticks": ""
           },
           "bgcolor": "#E5ECF6",
           "caxis": {
            "gridcolor": "white",
            "linecolor": "white",
            "ticks": ""
           }
          },
          "title": {
           "x": 0.05
          },
          "xaxis": {
           "automargin": true,
           "gridcolor": "white",
           "linecolor": "white",
           "ticks": "",
           "title": {
            "standoff": 15
           },
           "zerolinecolor": "white",
           "zerolinewidth": 2
          },
          "yaxis": {
           "automargin": true,
           "gridcolor": "white",
           "linecolor": "white",
           "ticks": "",
           "title": {
            "standoff": 15
           },
           "zerolinecolor": "white",
           "zerolinewidth": 2
          }
         }
        },
        "width": 800
       }
      }
     },
     "metadata": {},
     "output_type": "display_data"
    },
    {
     "data": {
      "image/png": "[encoded data removed]",
      "text/plain": [
       "<Figure size 2000x1200 with 4 Axes>"
      ]
     },
     "metadata": {},
     "output_type": "display_data"
    }
   ],
   "source": [
    "buscar_jugadores_similares('karim benzema', caracteristicas_grafico)"
   ]
  }
 ],
 "metadata": {
  "kernelspec": {
   "display_name": "upp",
   "language": "python",
   "name": "python3"
  },
  "language_info": {
   "codemirror_mode": {
    "name": "ipython",
    "version": 3
   },
   "file_extension": ".py",
   "mimetype": "text/x-python",
   "name": "python",
   "nbconvert_exporter": "python",
   "pygments_lexer": "ipython3",
   "version": "3.11.6"
  }
 },
 "nbformat": 4,
 "nbformat_minor": 2
}
