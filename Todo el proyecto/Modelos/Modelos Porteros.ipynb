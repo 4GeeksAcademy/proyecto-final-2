{
 "cells": [
  {
   "cell_type": "code",
   "execution_count": 26,
   "metadata": {},
   "outputs": [],
   "source": [
    "import pandas as pd"
   ]
  },
  {
   "cell_type": "code",
   "execution_count": 27,
   "metadata": {},
   "outputs": [],
   "source": [
    "Data = pd.read_csv(r\"D:\\ALGORITMO RECLUTADOR\\Todo el proyecto\\Data Posición\\Porteros.csv\")"
   ]
  },
  {
   "cell_type": "code",
   "execution_count": 28,
   "metadata": {},
   "outputs": [
    {
     "data": {
      "text/html": [
       "<div>\n",
       "<style scoped>\n",
       "    .dataframe tbody tr th:only-of-type {\n",
       "        vertical-align: middle;\n",
       "    }\n",
       "\n",
       "    .dataframe tbody tr th {\n",
       "        vertical-align: top;\n",
       "    }\n",
       "\n",
       "    .dataframe thead th {\n",
       "        text-align: right;\n",
       "    }\n",
       "</style>\n",
       "<table border=\"1\" class=\"dataframe\">\n",
       "  <thead>\n",
       "    <tr style=\"text-align: right;\">\n",
       "      <th></th>\n",
       "      <th>Name</th>\n",
       "      <th>Interceptions</th>\n",
       "      <th>Penalty committed</th>\n",
       "      <th>Clearances</th>\n",
       "      <th>Errors lead to goal</th>\n",
       "      <th>Dribbled past</th>\n",
       "      <th>Total passes</th>\n",
       "      <th>Accurate passes %</th>\n",
       "      <th>Accurate long balls %</th>\n",
       "      <th>Saves</th>\n",
       "      <th>Clean sheets</th>\n",
       "      <th>Penalties faced</th>\n",
       "      <th>Penalties saved</th>\n",
       "      <th>Goals conceded inside the box</th>\n",
       "      <th>Goals conceded outside the box</th>\n",
       "      <th>Yellow cards</th>\n",
       "      <th>Red cards</th>\n",
       "      <th>Aerial duels won %</th>\n",
       "      <th>Total duels won %</th>\n",
       "      <th>Appearances</th>\n",
       "      <th>Age Range</th>\n",
       "      <th>Position</th>\n",
       "      <th>League</th>\n",
       "      <th>Level</th>\n",
       "    </tr>\n",
       "  </thead>\n",
       "  <tbody>\n",
       "    <tr>\n",
       "      <th>0</th>\n",
       "      <td>Karim Emad</td>\n",
       "      <td>0.0</td>\n",
       "      <td>0.00</td>\n",
       "      <td>3.50</td>\n",
       "      <td>0.0</td>\n",
       "      <td>0.00</td>\n",
       "      <td>31.50</td>\n",
       "      <td>33.33</td>\n",
       "      <td>26.32</td>\n",
       "      <td>5.00</td>\n",
       "      <td>0.00</td>\n",
       "      <td>0.50</td>\n",
       "      <td>0.00</td>\n",
       "      <td>1.00</td>\n",
       "      <td>0.0</td>\n",
       "      <td>0.50</td>\n",
       "      <td>0.00</td>\n",
       "      <td>100.00</td>\n",
       "      <td>100.00</td>\n",
       "      <td>2</td>\n",
       "      <td>2</td>\n",
       "      <td>1</td>\n",
       "      <td>Egipto Premier League</td>\n",
       "      <td>4</td>\n",
       "    </tr>\n",
       "    <tr>\n",
       "      <th>1</th>\n",
       "      <td>Abdelrahman Samir</td>\n",
       "      <td>0.0</td>\n",
       "      <td>0.00</td>\n",
       "      <td>0.50</td>\n",
       "      <td>0.0</td>\n",
       "      <td>0.00</td>\n",
       "      <td>28.00</td>\n",
       "      <td>57.14</td>\n",
       "      <td>31.43</td>\n",
       "      <td>3.00</td>\n",
       "      <td>0.50</td>\n",
       "      <td>0.00</td>\n",
       "      <td>0.00</td>\n",
       "      <td>1.00</td>\n",
       "      <td>0.0</td>\n",
       "      <td>0.50</td>\n",
       "      <td>0.00</td>\n",
       "      <td>0.00</td>\n",
       "      <td>100.00</td>\n",
       "      <td>2</td>\n",
       "      <td>1</td>\n",
       "      <td>1</td>\n",
       "      <td>Egipto Premier League</td>\n",
       "      <td>4</td>\n",
       "    </tr>\n",
       "    <tr>\n",
       "      <th>2</th>\n",
       "      <td>Essam Tharwat</td>\n",
       "      <td>0.0</td>\n",
       "      <td>0.00</td>\n",
       "      <td>1.14</td>\n",
       "      <td>0.0</td>\n",
       "      <td>0.14</td>\n",
       "      <td>21.79</td>\n",
       "      <td>53.77</td>\n",
       "      <td>40.17</td>\n",
       "      <td>3.07</td>\n",
       "      <td>0.43</td>\n",
       "      <td>0.14</td>\n",
       "      <td>0.00</td>\n",
       "      <td>0.79</td>\n",
       "      <td>0.0</td>\n",
       "      <td>0.07</td>\n",
       "      <td>0.00</td>\n",
       "      <td>66.67</td>\n",
       "      <td>73.68</td>\n",
       "      <td>14</td>\n",
       "      <td>3</td>\n",
       "      <td>1</td>\n",
       "      <td>Egipto Premier League</td>\n",
       "      <td>4</td>\n",
       "    </tr>\n",
       "    <tr>\n",
       "      <th>3</th>\n",
       "      <td>Mohamed El-Shenawy</td>\n",
       "      <td>0.0</td>\n",
       "      <td>0.03</td>\n",
       "      <td>0.66</td>\n",
       "      <td>0.0</td>\n",
       "      <td>0.00</td>\n",
       "      <td>21.86</td>\n",
       "      <td>66.40</td>\n",
       "      <td>43.45</td>\n",
       "      <td>2.28</td>\n",
       "      <td>0.59</td>\n",
       "      <td>0.14</td>\n",
       "      <td>0.07</td>\n",
       "      <td>0.45</td>\n",
       "      <td>0.0</td>\n",
       "      <td>0.07</td>\n",
       "      <td>0.03</td>\n",
       "      <td>100.00</td>\n",
       "      <td>92.31</td>\n",
       "      <td>29</td>\n",
       "      <td>3</td>\n",
       "      <td>1</td>\n",
       "      <td>Egipto Premier League</td>\n",
       "      <td>4</td>\n",
       "    </tr>\n",
       "    <tr>\n",
       "      <th>4</th>\n",
       "      <td>Ali Lotfi</td>\n",
       "      <td>0.0</td>\n",
       "      <td>0.00</td>\n",
       "      <td>0.20</td>\n",
       "      <td>0.0</td>\n",
       "      <td>0.00</td>\n",
       "      <td>13.80</td>\n",
       "      <td>85.51</td>\n",
       "      <td>65.38</td>\n",
       "      <td>1.00</td>\n",
       "      <td>0.60</td>\n",
       "      <td>0.00</td>\n",
       "      <td>0.00</td>\n",
       "      <td>0.00</td>\n",
       "      <td>0.0</td>\n",
       "      <td>0.00</td>\n",
       "      <td>0.00</td>\n",
       "      <td>0.00</td>\n",
       "      <td>100.00</td>\n",
       "      <td>5</td>\n",
       "      <td>3</td>\n",
       "      <td>1</td>\n",
       "      <td>Egipto Premier League</td>\n",
       "      <td>4</td>\n",
       "    </tr>\n",
       "  </tbody>\n",
       "</table>\n",
       "</div>"
      ],
      "text/plain": [
       "                 Name  Interceptions  Penalty committed  Clearances  \\\n",
       "0          Karim Emad            0.0               0.00        3.50   \n",
       "1   Abdelrahman Samir            0.0               0.00        0.50   \n",
       "2       Essam Tharwat            0.0               0.00        1.14   \n",
       "3  Mohamed El-Shenawy            0.0               0.03        0.66   \n",
       "4           Ali Lotfi            0.0               0.00        0.20   \n",
       "\n",
       "   Errors lead to goal  Dribbled past  Total passes  Accurate passes %  \\\n",
       "0                  0.0           0.00         31.50              33.33   \n",
       "1                  0.0           0.00         28.00              57.14   \n",
       "2                  0.0           0.14         21.79              53.77   \n",
       "3                  0.0           0.00         21.86              66.40   \n",
       "4                  0.0           0.00         13.80              85.51   \n",
       "\n",
       "   Accurate long balls %  Saves  Clean sheets  Penalties faced  \\\n",
       "0                  26.32   5.00          0.00             0.50   \n",
       "1                  31.43   3.00          0.50             0.00   \n",
       "2                  40.17   3.07          0.43             0.14   \n",
       "3                  43.45   2.28          0.59             0.14   \n",
       "4                  65.38   1.00          0.60             0.00   \n",
       "\n",
       "   Penalties saved  Goals conceded inside the box  \\\n",
       "0             0.00                           1.00   \n",
       "1             0.00                           1.00   \n",
       "2             0.00                           0.79   \n",
       "3             0.07                           0.45   \n",
       "4             0.00                           0.00   \n",
       "\n",
       "   Goals conceded outside the box  Yellow cards  Red cards  \\\n",
       "0                             0.0          0.50       0.00   \n",
       "1                             0.0          0.50       0.00   \n",
       "2                             0.0          0.07       0.00   \n",
       "3                             0.0          0.07       0.03   \n",
       "4                             0.0          0.00       0.00   \n",
       "\n",
       "   Aerial duels won %  Total duels won %  Appearances  Age Range  Position  \\\n",
       "0              100.00             100.00            2          2         1   \n",
       "1                0.00             100.00            2          1         1   \n",
       "2               66.67              73.68           14          3         1   \n",
       "3              100.00              92.31           29          3         1   \n",
       "4                0.00             100.00            5          3         1   \n",
       "\n",
       "                  League  Level  \n",
       "0  Egipto Premier League      4  \n",
       "1  Egipto Premier League      4  \n",
       "2  Egipto Premier League      4  \n",
       "3  Egipto Premier League      4  \n",
       "4  Egipto Premier League      4  "
      ]
     },
     "execution_count": 28,
     "metadata": {},
     "output_type": "execute_result"
    }
   ],
   "source": [
    "pd.set_option('display.max_columns', None)\n",
    "Data.head()"
   ]
  },
  {
   "cell_type": "code",
   "execution_count": 29,
   "metadata": {},
   "outputs": [
    {
     "data": {
      "text/html": [
       "<style>#sk-container-id-2 {color: black;}#sk-container-id-2 pre{padding: 0;}#sk-container-id-2 div.sk-toggleable {background-color: white;}#sk-container-id-2 label.sk-toggleable__label {cursor: pointer;display: block;width: 100%;margin-bottom: 0;padding: 0.3em;box-sizing: border-box;text-align: center;}#sk-container-id-2 label.sk-toggleable__label-arrow:before {content: \"▸\";float: left;margin-right: 0.25em;color: #696969;}#sk-container-id-2 label.sk-toggleable__label-arrow:hover:before {color: black;}#sk-container-id-2 div.sk-estimator:hover label.sk-toggleable__label-arrow:before {color: black;}#sk-container-id-2 div.sk-toggleable__content {max-height: 0;max-width: 0;overflow: hidden;text-align: left;background-color: #f0f8ff;}#sk-container-id-2 div.sk-toggleable__content pre {margin: 0.2em;color: black;border-radius: 0.25em;background-color: #f0f8ff;}#sk-container-id-2 input.sk-toggleable__control:checked~div.sk-toggleable__content {max-height: 200px;max-width: 100%;overflow: auto;}#sk-container-id-2 input.sk-toggleable__control:checked~label.sk-toggleable__label-arrow:before {content: \"▾\";}#sk-container-id-2 div.sk-estimator input.sk-toggleable__control:checked~label.sk-toggleable__label {background-color: #d4ebff;}#sk-container-id-2 div.sk-label input.sk-toggleable__control:checked~label.sk-toggleable__label {background-color: #d4ebff;}#sk-container-id-2 input.sk-hidden--visually {border: 0;clip: rect(1px 1px 1px 1px);clip: rect(1px, 1px, 1px, 1px);height: 1px;margin: -1px;overflow: hidden;padding: 0;position: absolute;width: 1px;}#sk-container-id-2 div.sk-estimator {font-family: monospace;background-color: #f0f8ff;border: 1px dotted black;border-radius: 0.25em;box-sizing: border-box;margin-bottom: 0.5em;}#sk-container-id-2 div.sk-estimator:hover {background-color: #d4ebff;}#sk-container-id-2 div.sk-parallel-item::after {content: \"\";width: 100%;border-bottom: 1px solid gray;flex-grow: 1;}#sk-container-id-2 div.sk-label:hover label.sk-toggleable__label {background-color: #d4ebff;}#sk-container-id-2 div.sk-serial::before {content: \"\";position: absolute;border-left: 1px solid gray;box-sizing: border-box;top: 0;bottom: 0;left: 50%;z-index: 0;}#sk-container-id-2 div.sk-serial {display: flex;flex-direction: column;align-items: center;background-color: white;padding-right: 0.2em;padding-left: 0.2em;position: relative;}#sk-container-id-2 div.sk-item {position: relative;z-index: 1;}#sk-container-id-2 div.sk-parallel {display: flex;align-items: stretch;justify-content: center;background-color: white;position: relative;}#sk-container-id-2 div.sk-item::before, #sk-container-id-2 div.sk-parallel-item::before {content: \"\";position: absolute;border-left: 1px solid gray;box-sizing: border-box;top: 0;bottom: 0;left: 50%;z-index: -1;}#sk-container-id-2 div.sk-parallel-item {display: flex;flex-direction: column;z-index: 1;position: relative;background-color: white;}#sk-container-id-2 div.sk-parallel-item:first-child::after {align-self: flex-end;width: 50%;}#sk-container-id-2 div.sk-parallel-item:last-child::after {align-self: flex-start;width: 50%;}#sk-container-id-2 div.sk-parallel-item:only-child::after {width: 0;}#sk-container-id-2 div.sk-dashed-wrapped {border: 1px dashed gray;margin: 0 0.4em 0.5em 0.4em;box-sizing: border-box;padding-bottom: 0.4em;background-color: white;}#sk-container-id-2 div.sk-label label {font-family: monospace;font-weight: bold;display: inline-block;line-height: 1.2em;}#sk-container-id-2 div.sk-label-container {text-align: center;}#sk-container-id-2 div.sk-container {/* jupyter's `normalize.less` sets `[hidden] { display: none; }` but bootstrap.min.css set `[hidden] { display: none !important; }` so we also need the `!important` here to be able to override the default hidden behavior on the sphinx rendered scikit-learn.org. See: https://github.com/scikit-learn/scikit-learn/issues/21755 */display: inline-block !important;position: relative;}#sk-container-id-2 div.sk-text-repr-fallback {display: none;}</style><div id=\"sk-container-id-2\" class=\"sk-top-container\"><div class=\"sk-text-repr-fallback\"><pre>NearestNeighbors(n_neighbors=6)</pre><b>In a Jupyter environment, please rerun this cell to show the HTML representation or trust the notebook. <br />On GitHub, the HTML representation is unable to render, please try loading this page with nbviewer.org.</b></div><div class=\"sk-container\" hidden><div class=\"sk-item\"><div class=\"sk-estimator sk-toggleable\"><input class=\"sk-toggleable__control sk-hidden--visually\" id=\"sk-estimator-id-2\" type=\"checkbox\" checked><label for=\"sk-estimator-id-2\" class=\"sk-toggleable__label sk-toggleable__label-arrow\">NearestNeighbors</label><div class=\"sk-toggleable__content\"><pre>NearestNeighbors(n_neighbors=6)</pre></div></div></div></div></div>"
      ],
      "text/plain": [
       "NearestNeighbors(n_neighbors=6)"
      ]
     },
     "execution_count": 29,
     "metadata": {},
     "output_type": "execute_result"
    }
   ],
   "source": [
    "import pandas as pd\n",
    "from sklearn.neighbors import NearestNeighbors\n",
    "from sklearn.preprocessing import StandardScaler\n",
    "\n",
    "Columna_habilidades = Data.columns.drop([\"Name\", \"League\"])\n",
    "\n",
    "features = Data[Columna_habilidades]\n",
    "\n",
    "# Crea un objeto StandardScaler\n",
    "scaler = StandardScaler()\n",
    "\n",
    "# Ajusta el escalador a tus datos y luego transforma tus datos\n",
    "features_scaled = scaler.fit_transform(features)\n",
    "\n",
    "# Inicializa el modelo NearestNeighbors\n",
    "model = NearestNeighbors(n_neighbors=6, algorithm = \"auto\")  # Buscamos 6 vecinos porque uno de ellos será el jugador mismo\n",
    "\n",
    "# Ajusta el modelo a tus datos\n",
    "model.fit(features_scaled)"
   ]
  },
  {
   "cell_type": "code",
   "execution_count": 30,
   "metadata": {},
   "outputs": [
    {
     "data": {
      "text/plain": [
       "Index(['Name', 'Interceptions', 'Penalty committed', 'Clearances',\n",
       "       'Errors lead to goal', 'Dribbled past', 'Total passes',\n",
       "       'Accurate passes %', 'Accurate long balls %', 'Saves', 'Clean sheets',\n",
       "       'Penalties faced', 'Penalties saved', 'Goals conceded inside the box',\n",
       "       'Goals conceded outside the box', 'Yellow cards', 'Red cards',\n",
       "       'Aerial duels won %', 'Total duels won %', 'Appearances', 'Age Range',\n",
       "       'Position', 'League', 'Level'],\n",
       "      dtype='object')"
      ]
     },
     "execution_count": 30,
     "metadata": {},
     "output_type": "execute_result"
    }
   ],
   "source": [
    "Data.columns"
   ]
  },
  {
   "cell_type": "code",
   "execution_count": 31,
   "metadata": {},
   "outputs": [],
   "source": [
    "caracteristicas_grafico = ['Saves', 'Clean sheets', 'Total duels won %', 'Penalties saved', 'Goals conceded inside the box', 'Goals conceded outside the box', 'Accurate long balls %']"
   ]
  },
  {
   "cell_type": "code",
   "execution_count": 35,
   "metadata": {},
   "outputs": [
    {
     "data": {
      "text/plain": [
       "0       26.32\n",
       "1        3.00\n",
       "2       21.79\n",
       "3       21.83\n",
       "4        1.00\n",
       "        ...  \n",
       "1766     0.00\n",
       "1767     4.00\n",
       "1768     1.50\n",
       "1769     1.00\n",
       "1770    24.00\n",
       "Length: 1771, dtype: float64"
      ]
     },
     "execution_count": 35,
     "metadata": {},
     "output_type": "execute_result"
    }
   ],
   "source": [
    "# Lista de columnas para mediana de negativos\n",
    "columnas_negativos = ['Penalty committed', 'Errors lead to goal', 'Dribbled past', \n",
    "                      'Goals conceded inside the box', 'Goals conceded outside the box', \n",
    "                      'Yellow cards', 'Red cards']\n",
    "\n",
    "# Lista de columnas para mediana de positivos\n",
    "columnas_positivos = ['Interceptions', 'Clearances', \n",
    "                      'Total passes', 'Accurate passes %',\n",
    "                      'Accurate long balls %', 'Saves', 'Clean sheets', \n",
    "                      'Aerial duels won %', 'Total duels won %']\n",
    "\n",
    "# Calcular la mediana por fila para el conjunto de columnas 'columnas_negativos'\n",
    "mediana_negativos = Data[columnas_negativos].apply(lambda row: row.median(), axis=1)\n",
    "\n",
    "# Calcular la mediana por fila para el conjunto de columnas 'columnas_positivos'\n",
    "mediana_positivos = Data[columnas_positivos].apply(lambda row: row.median(), axis=1)\n",
    "\n",
    "# Estas son tus medianas por fila para cada conjunto de columnas\n",
    "\n",
    "diferencia_medianas = mediana_positivos - mediana_negativos\n",
    "\n",
    "diferencia_medianas"
   ]
  },
  {
   "cell_type": "code",
   "execution_count": 36,
   "metadata": {},
   "outputs": [
    {
     "data": {
      "text/plain": [
       "-1.0"
      ]
     },
     "execution_count": 36,
     "metadata": {},
     "output_type": "execute_result"
    }
   ],
   "source": [
    "diferencia_medianas.min()"
   ]
  },
  {
   "cell_type": "code",
   "execution_count": null,
   "metadata": {},
   "outputs": [
    {
     "data": {
      "text/plain": [
       "0       1.000\n",
       "1       0.500\n",
       "2       0.895\n",
       "3       0.625\n",
       "4       0.100\n",
       "        ...  \n",
       "1766    0.000\n",
       "1767    0.500\n",
       "1768    0.500\n",
       "1769    0.500\n",
       "1770    1.000\n",
       "Name: mediana, Length: 1771, dtype: float64"
      ]
     },
     "execution_count": 7,
     "metadata": {},
     "output_type": "execute_result"
    }
   ],
   "source": [
    "# Calculando la mediana de las columnas de interés, excluyendo 'Name' y 'League'\n",
    "Data['mediana'] = Data.drop(['Name', 'League'], axis=1).median(axis=1)\n",
    "Data['mediana']"
   ]
  },
  {
   "cell_type": "code",
   "execution_count": null,
   "metadata": {},
   "outputs": [
    {
     "data": {
      "text/plain": [
       "count    1771.000000\n",
       "mean        0.714653\n",
       "std         0.320817\n",
       "min         0.000000\n",
       "25%         0.515000\n",
       "50%         0.800000\n",
       "75%         0.950000\n",
       "max         1.500000\n",
       "Name: mediana, dtype: float64"
      ]
     },
     "execution_count": 23,
     "metadata": {},
     "output_type": "execute_result"
    }
   ],
   "source": [
    "Data['mediana'].describe()"
   ]
  },
  {
   "cell_type": "code",
   "execution_count": null,
   "metadata": {},
   "outputs": [],
   "source": [
    "import unicodedata\n",
    "import matplotlib.pyplot as plt\n",
    "import plotly.graph_objects as go\n",
    "\n",
    "# Función para normalizar nombres (ignorar mayúsculas y acentos)\n",
    "def normalizar_nombre(nombre):\n",
    "    nombre = nombre.lower()\n",
    "    nombre = unicodedata.normalize('NFD', nombre)\n",
    "    nombre = nombre.encode('ascii', 'ignore').decode(\"utf-8\")\n",
    "    return nombre\n",
    "\n",
    "def buscar_jugadores_similares(nombre, caracteristicas_grafico):\n",
    "    # Normaliza el nombre que buscas\n",
    "    nombre_normalizado = normalizar_nombre(nombre)\n",
    "\n",
    "    # Aplica la normalización a los nombres en el conjunto de datos\n",
    "    Data['Name_Normalized'] = Data['Name'].apply(normalizar_nombre)\n",
    "\n",
    "    # Busca el jugador con el nombre normalizado\n",
    "    jugador = Data[Data['Name_Normalized'] == nombre_normalizado]\n",
    "\n",
    "    if len(jugador) == 0:\n",
    "        return 'Jugador no encontrado'\n",
    "    else:\n",
    "        jugador_scaled = scaler.transform(jugador[features.columns])\n",
    "        distancias, indices = model.kneighbors(jugador_scaled)\n",
    "        jugadores_similares = Data.iloc[indices[0][1:]]  # Excluimos el primer resultado porque será el jugador mismo\n",
    "\n",
    "        # Escala todas las características de los jugadores similares\n",
    "        jugadores_similares_scaled = scaler.transform(jugadores_similares[features.columns])\n",
    "\n",
    "        # Define una lista de colores\n",
    "        colores = ['blue', 'green', 'red', 'cyan', 'magenta', 'yellow', 'black']\n",
    "\n",
    "        # Crea un gráfico de radar para cada jugador similar\n",
    "        fig = go.Figure()\n",
    "        for i, row in enumerate(jugadores_similares_scaled):\n",
    "            color = colores[i % len(colores)]  # Elige un color de la lista\n",
    "            fig.add_trace(go.Scatterpolar(\n",
    "                r=row[features.columns.isin(caracteristicas_grafico)],\n",
    "                theta=caracteristicas_grafico,\n",
    "                fill='toself',\n",
    "                name=jugadores_similares.iloc[i]['Name'],\n",
    "                line=dict(color=color)\n",
    "            ))\n",
    "\n",
    "        fig.update_layout(\n",
    "            autosize=False,\n",
    "            width=800,\n",
    "            height=800,\n",
    "            polar=dict(\n",
    "                radialaxis=dict(\n",
    "                    visible=True,\n",
    "                    range=[-2, 10]  # Ajusta este rango según tus datos\n",
    "                )),\n",
    "            showlegend=True\n",
    "        )\n",
    "        fig.show()\n",
    "\n",
    "        # Crea un gráfico de dispersión para la mediana\n",
    "        plt.figure(figsize=(10, 6))\n",
    "        for i, name in enumerate(jugadores_similares['Name']):\n",
    "            plt.scatter(i, jugadores_similares.loc[jugadores_similares['Name'] == name, 'mediana'],\n",
    "                        color=colores[i % len(colores)], marker='o')\n",
    "        for line in [1.50, 0.75, 0.01]:\n",
    "            plt.axhline(y=line, color='r', linestyle='--')\n",
    "        plt.title('Mediana de los jugadores similares')\n",
    "        plt.xticks(range(len(jugadores_similares)), jugadores_similares['Name'], rotation=360)\n",
    "        plt.xlabel('Jugadores')\n",
    "        plt.ylabel('Mediana')\n",
    "        plt.show()\n",
    "\n",
    "        return jugadores_similares"
   ]
  },
  {
   "cell_type": "code",
   "execution_count": null,
   "metadata": {},
   "outputs": [
    {
     "data": {
      "application/vnd.plotly.v1+json": {
       "config": {
        "plotlyServerURL": "https://plot.ly"
       },
       "data": [
        {
         "fill": "toself",
         "line": {
          "color": "blue"
         },
         "name": "Diego Mariño",
         "r": [
          0.41455528759536037,
          -0.42795286676515254,
          0.0021078762175661663,
          -0.3507871713926021,
          -0.1584607314593945,
          -0.3197055355596712,
          -0.217833365746279
         ],
         "theta": [
          "Saves",
          "Clean sheets",
          "Total duels won %",
          "Penalties saved",
          "Goals conceded inside the box",
          "Goals conceded outside the box",
          "Accurate long balls %"
         ],
         "type": "scatterpolar"
        },
        {
         "fill": "toself",
         "line": {
          "color": "green"
         },
         "name": "Simone Colombi",
         "r": [
          0.4024576307432402,
          -0.345076483272415,
          0.6808440182738843,
          -0.3507871713926021,
          -0.3178756118357797,
          -0.3197055355596712,
          0.6779583599305148
         ],
         "theta": [
          "Saves",
          "Clean sheets",
          "Total duels won %",
          "Penalties saved",
          "Goals conceded inside the box",
          "Goals conceded outside the box",
          "Accurate long balls %"
         ],
         "type": "scatterpolar"
        },
        {
         "fill": "toself",
         "line": {
          "color": "red"
         },
         "name": "Leandro Chichizola",
         "r": [
          0.061130883844138444,
          -0.7502499136813547,
          0.8262874772859524,
          -0.3507871713926021,
          -0.8120617410025734,
          -0.3197055355596712,
          0.07940793667582947
         ],
         "theta": [
          "Saves",
          "Clean sheets",
          "Total duels won %",
          "Penalties saved",
          "Goals conceded inside the box",
          "Goals conceded outside the box",
          "Accurate long balls %"
         ],
         "type": "scatterpolar"
        },
        {
         "fill": "toself",
         "line": {
          "color": "cyan"
         },
         "name": "Leonardo Burián",
         "r": [
          0.49923888556020124,
          -0.7410414266266061,
          0.389957100249748,
          -0.3507871713926021,
          -0.6685883486638269,
          -0.36134696407156186,
          0.290643935562313
         ],
         "theta": [
          "Saves",
          "Clean sheets",
          "Total duels won %",
          "Penalties saved",
          "Goals conceded inside the box",
          "Goals conceded outside the box",
          "Accurate long balls %"
         ],
         "type": "scatterpolar"
        },
        {
         "fill": "toself",
         "line": {
          "color": "magenta"
         },
         "name": "Kristoffer Nordfeldt",
         "r": [
          0.10433680117313872,
          0.014054511862781678,
          0.2929947942417025,
          -0.3507871713926021,
          -0.20628519557231006,
          0.13835017807112643,
          0.22613995791059452
         ],
         "theta": [
          "Saves",
          "Clean sheets",
          "Total duels won %",
          "Penalties saved",
          "Goals conceded inside the box",
          "Goals conceded outside the box",
          "Accurate long balls %"
         ],
         "type": "scatterpolar"
        }
       ],
       "layout": {
        "autosize": false,
        "height": 800,
        "polar": {
         "radialaxis": {
          "range": [
           -2,
           10
          ],
          "visible": true
         }
        },
        "showlegend": true,
        "template": {
         "data": {
          "bar": [
           {
            "error_x": {
             "color": "#2a3f5f"
            },
            "error_y": {
             "color": "#2a3f5f"
            },
            "marker": {
             "line": {
              "color": "#E5ECF6",
              "width": 0.5
             },
             "pattern": {
              "fillmode": "overlay",
              "size": 10,
              "solidity": 0.2
             }
            },
            "type": "bar"
           }
          ],
          "barpolar": [
           {
            "marker": {
             "line": {
              "color": "#E5ECF6",
              "width": 0.5
             },
             "pattern": {
              "fillmode": "overlay",
              "size": 10,
              "solidity": 0.2
             }
            },
            "type": "barpolar"
           }
          ],
          "carpet": [
           {
            "aaxis": {
             "endlinecolor": "#2a3f5f",
             "gridcolor": "white",
             "linecolor": "white",
             "minorgridcolor": "white",
             "startlinecolor": "#2a3f5f"
            },
            "baxis": {
             "endlinecolor": "#2a3f5f",
             "gridcolor": "white",
             "linecolor": "white",
             "minorgridcolor": "white",
             "startlinecolor": "#2a3f5f"
            },
            "type": "carpet"
           }
          ],
          "choropleth": [
           {
            "colorbar": {
             "outlinewidth": 0,
             "ticks": ""
            },
            "type": "choropleth"
           }
          ],
          "contour": [
           {
            "colorbar": {
             "outlinewidth": 0,
             "ticks": ""
            },
            "colorscale": [
             [
              0,
              "#0d0887"
             ],
             [
              0.1111111111111111,
              "#46039f"
             ],
             [
              0.2222222222222222,
              "#7201a8"
             ],
             [
              0.3333333333333333,
              "#9c179e"
             ],
             [
              0.4444444444444444,
              "#bd3786"
             ],
             [
              0.5555555555555556,
              "#d8576b"
             ],
             [
              0.6666666666666666,
              "#ed7953"
             ],
             [
              0.7777777777777778,
              "#fb9f3a"
             ],
             [
              0.8888888888888888,
              "#fdca26"
             ],
             [
              1,
              "#f0f921"
             ]
            ],
            "type": "contour"
           }
          ],
          "contourcarpet": [
           {
            "colorbar": {
             "outlinewidth": 0,
             "ticks": ""
            },
            "type": "contourcarpet"
           }
          ],
          "heatmap": [
           {
            "colorbar": {
             "outlinewidth": 0,
             "ticks": ""
            },
            "colorscale": [
             [
              0,
              "#0d0887"
             ],
             [
              0.1111111111111111,
              "#46039f"
             ],
             [
              0.2222222222222222,
              "#7201a8"
             ],
             [
              0.3333333333333333,
              "#9c179e"
             ],
             [
              0.4444444444444444,
              "#bd3786"
             ],
             [
              0.5555555555555556,
              "#d8576b"
             ],
             [
              0.6666666666666666,
              "#ed7953"
             ],
             [
              0.7777777777777778,
              "#fb9f3a"
             ],
             [
              0.8888888888888888,
              "#fdca26"
             ],
             [
              1,
              "#f0f921"
             ]
            ],
            "type": "heatmap"
           }
          ],
          "heatmapgl": [
           {
            "colorbar": {
             "outlinewidth": 0,
             "ticks": ""
            },
            "colorscale": [
             [
              0,
              "#0d0887"
             ],
             [
              0.1111111111111111,
              "#46039f"
             ],
             [
              0.2222222222222222,
              "#7201a8"
             ],
             [
              0.3333333333333333,
              "#9c179e"
             ],
             [
              0.4444444444444444,
              "#bd3786"
             ],
             [
              0.5555555555555556,
              "#d8576b"
             ],
             [
              0.6666666666666666,
              "#ed7953"
             ],
             [
              0.7777777777777778,
              "#fb9f3a"
             ],
             [
              0.8888888888888888,
              "#fdca26"
             ],
             [
              1,
              "#f0f921"
             ]
            ],
            "type": "heatmapgl"
           }
          ],
          "histogram": [
           {
            "marker": {
             "pattern": {
              "fillmode": "overlay",
              "size": 10,
              "solidity": 0.2
             }
            },
            "type": "histogram"
           }
          ],
          "histogram2d": [
           {
            "colorbar": {
             "outlinewidth": 0,
             "ticks": ""
            },
            "colorscale": [
             [
              0,
              "#0d0887"
             ],
             [
              0.1111111111111111,
              "#46039f"
             ],
             [
              0.2222222222222222,
              "#7201a8"
             ],
             [
              0.3333333333333333,
              "#9c179e"
             ],
             [
              0.4444444444444444,
              "#bd3786"
             ],
             [
              0.5555555555555556,
              "#d8576b"
             ],
             [
              0.6666666666666666,
              "#ed7953"
             ],
             [
              0.7777777777777778,
              "#fb9f3a"
             ],
             [
              0.8888888888888888,
              "#fdca26"
             ],
             [
              1,
              "#f0f921"
             ]
            ],
            "type": "histogram2d"
           }
          ],
          "histogram2dcontour": [
           {
            "colorbar": {
             "outlinewidth": 0,
             "ticks": ""
            },
            "colorscale": [
             [
              0,
              "#0d0887"
             ],
             [
              0.1111111111111111,
              "#46039f"
             ],
             [
              0.2222222222222222,
              "#7201a8"
             ],
             [
              0.3333333333333333,
              "#9c179e"
             ],
             [
              0.4444444444444444,
              "#bd3786"
             ],
             [
              0.5555555555555556,
              "#d8576b"
             ],
             [
              0.6666666666666666,
              "#ed7953"
             ],
             [
              0.7777777777777778,
              "#fb9f3a"
             ],
             [
              0.8888888888888888,
              "#fdca26"
             ],
             [
              1,
              "#f0f921"
             ]
            ],
            "type": "histogram2dcontour"
           }
          ],
          "mesh3d": [
           {
            "colorbar": {
             "outlinewidth": 0,
             "ticks": ""
            },
            "type": "mesh3d"
           }
          ],
          "parcoords": [
           {
            "line": {
             "colorbar": {
              "outlinewidth": 0,
              "ticks": ""
             }
            },
            "type": "parcoords"
           }
          ],
          "pie": [
           {
            "automargin": true,
            "type": "pie"
           }
          ],
          "scatter": [
           {
            "fillpattern": {
             "fillmode": "overlay",
             "size": 10,
             "solidity": 0.2
            },
            "type": "scatter"
           }
          ],
          "scatter3d": [
           {
            "line": {
             "colorbar": {
              "outlinewidth": 0,
              "ticks": ""
             }
            },
            "marker": {
             "colorbar": {
              "outlinewidth": 0,
              "ticks": ""
             }
            },
            "type": "scatter3d"
           }
          ],
          "scattercarpet": [
           {
            "marker": {
             "colorbar": {
              "outlinewidth": 0,
              "ticks": ""
             }
            },
            "type": "scattercarpet"
           }
          ],
          "scattergeo": [
           {
            "marker": {
             "colorbar": {
              "outlinewidth": 0,
              "ticks": ""
             }
            },
            "type": "scattergeo"
           }
          ],
          "scattergl": [
           {
            "marker": {
             "colorbar": {
              "outlinewidth": 0,
              "ticks": ""
             }
            },
            "type": "scattergl"
           }
          ],
          "scattermapbox": [
           {
            "marker": {
             "colorbar": {
              "outlinewidth": 0,
              "ticks": ""
             }
            },
            "type": "scattermapbox"
           }
          ],
          "scatterpolar": [
           {
            "marker": {
             "colorbar": {
              "outlinewidth": 0,
              "ticks": ""
             }
            },
            "type": "scatterpolar"
           }
          ],
          "scatterpolargl": [
           {
            "marker": {
             "colorbar": {
              "outlinewidth": 0,
              "ticks": ""
             }
            },
            "type": "scatterpolargl"
           }
          ],
          "scatterternary": [
           {
            "marker": {
             "colorbar": {
              "outlinewidth": 0,
              "ticks": ""
             }
            },
            "type": "scatterternary"
           }
          ],
          "surface": [
           {
            "colorbar": {
             "outlinewidth": 0,
             "ticks": ""
            },
            "colorscale": [
             [
              0,
              "#0d0887"
             ],
             [
              0.1111111111111111,
              "#46039f"
             ],
             [
              0.2222222222222222,
              "#7201a8"
             ],
             [
              0.3333333333333333,
              "#9c179e"
             ],
             [
              0.4444444444444444,
              "#bd3786"
             ],
             [
              0.5555555555555556,
              "#d8576b"
             ],
             [
              0.6666666666666666,
              "#ed7953"
             ],
             [
              0.7777777777777778,
              "#fb9f3a"
             ],
             [
              0.8888888888888888,
              "#fdca26"
             ],
             [
              1,
              "#f0f921"
             ]
            ],
            "type": "surface"
           }
          ],
          "table": [
           {
            "cells": {
             "fill": {
              "color": "#EBF0F8"
             },
             "line": {
              "color": "white"
             }
            },
            "header": {
             "fill": {
              "color": "#C8D4E3"
             },
             "line": {
              "color": "white"
             }
            },
            "type": "table"
           }
          ]
         },
         "layout": {
          "annotationdefaults": {
           "arrowcolor": "#2a3f5f",
           "arrowhead": 0,
           "arrowwidth": 1
          },
          "autotypenumbers": "strict",
          "coloraxis": {
           "colorbar": {
            "outlinewidth": 0,
            "ticks": ""
           }
          },
          "colorscale": {
           "diverging": [
            [
             0,
             "#8e0152"
            ],
            [
             0.1,
             "#c51b7d"
            ],
            [
             0.2,
             "#de77ae"
            ],
            [
             0.3,
             "#f1b6da"
            ],
            [
             0.4,
             "#fde0ef"
            ],
            [
             0.5,
             "#f7f7f7"
            ],
            [
             0.6,
             "#e6f5d0"
            ],
            [
             0.7,
             "#b8e186"
            ],
            [
             0.8,
             "#7fbc41"
            ],
            [
             0.9,
             "#4d9221"
            ],
            [
             1,
             "#276419"
            ]
           ],
           "sequential": [
            [
             0,
             "#0d0887"
            ],
            [
             0.1111111111111111,
             "#46039f"
            ],
            [
             0.2222222222222222,
             "#7201a8"
            ],
            [
             0.3333333333333333,
             "#9c179e"
            ],
            [
             0.4444444444444444,
             "#bd3786"
            ],
            [
             0.5555555555555556,
             "#d8576b"
            ],
            [
             0.6666666666666666,
             "#ed7953"
            ],
            [
             0.7777777777777778,
             "#fb9f3a"
            ],
            [
             0.8888888888888888,
             "#fdca26"
            ],
            [
             1,
             "#f0f921"
            ]
           ],
           "sequentialminus": [
            [
             0,
             "#0d0887"
            ],
            [
             0.1111111111111111,
             "#46039f"
            ],
            [
             0.2222222222222222,
             "#7201a8"
            ],
            [
             0.3333333333333333,
             "#9c179e"
            ],
            [
             0.4444444444444444,
             "#bd3786"
            ],
            [
             0.5555555555555556,
             "#d8576b"
            ],
            [
             0.6666666666666666,
             "#ed7953"
            ],
            [
             0.7777777777777778,
             "#fb9f3a"
            ],
            [
             0.8888888888888888,
             "#fdca26"
            ],
            [
             1,
             "#f0f921"
            ]
           ]
          },
          "colorway": [
           "#636efa",
           "#EF553B",
           "#00cc96",
           "#ab63fa",
           "#FFA15A",
           "#19d3f3",
           "#FF6692",
           "#B6E880",
           "#FF97FF",
           "#FECB52"
          ],
          "font": {
           "color": "#2a3f5f"
          },
          "geo": {
           "bgcolor": "white",
           "lakecolor": "white",
           "landcolor": "#E5ECF6",
           "showlakes": true,
           "showland": true,
           "subunitcolor": "white"
          },
          "hoverlabel": {
           "align": "left"
          },
          "hovermode": "closest",
          "mapbox": {
           "style": "light"
          },
          "paper_bgcolor": "white",
          "plot_bgcolor": "#E5ECF6",
          "polar": {
           "angularaxis": {
            "gridcolor": "white",
            "linecolor": "white",
            "ticks": ""
           },
           "bgcolor": "#E5ECF6",
           "radialaxis": {
            "gridcolor": "white",
            "linecolor": "white",
            "ticks": ""
           }
          },
          "scene": {
           "xaxis": {
            "backgroundcolor": "#E5ECF6",
            "gridcolor": "white",
            "gridwidth": 2,
            "linecolor": "white",
            "showbackground": true,
            "ticks": "",
            "zerolinecolor": "white"
           },
           "yaxis": {
            "backgroundcolor": "#E5ECF6",
            "gridcolor": "white",
            "gridwidth": 2,
            "linecolor": "white",
            "showbackground": true,
            "ticks": "",
            "zerolinecolor": "white"
           },
           "zaxis": {
            "backgroundcolor": "#E5ECF6",
            "gridcolor": "white",
            "gridwidth": 2,
            "linecolor": "white",
            "showbackground": true,
            "ticks": "",
            "zerolinecolor": "white"
           }
          },
          "shapedefaults": {
           "line": {
            "color": "#2a3f5f"
           }
          },
          "ternary": {
           "aaxis": {
            "gridcolor": "white",
            "linecolor": "white",
            "ticks": ""
           },
           "baxis": {
            "gridcolor": "white",
            "linecolor": "white",
            "ticks": ""
           },
           "bgcolor": "#E5ECF6",
           "caxis": {
            "gridcolor": "white",
            "linecolor": "white",
            "ticks": ""
           }
          },
          "title": {
           "x": 0.05
          },
          "xaxis": {
           "automargin": true,
           "gridcolor": "white",
           "linecolor": "white",
           "ticks": "",
           "title": {
            "standoff": 15
           },
           "zerolinecolor": "white",
           "zerolinewidth": 2
          },
          "yaxis": {
           "automargin": true,
           "gridcolor": "white",
           "linecolor": "white",
           "ticks": "",
           "title": {
            "standoff": 15
           },
           "zerolinecolor": "white",
           "zerolinewidth": 2
          }
         }
        },
        "width": 800
       }
      }
     },
     "metadata": {},
     "output_type": "display_data"
    },
    {
     "data": {
      "image/png": "[encoded data removed]",
      "text/plain": [
       "<Figure size 1000x600 with 1 Axes>"
      ]
     },
     "metadata": {},
     "output_type": "display_data"
    },
    {
     "data": {
      "text/html": [
       "<div>\n",
       "<style scoped>\n",
       "    .dataframe tbody tr th:only-of-type {\n",
       "        vertical-align: middle;\n",
       "    }\n",
       "\n",
       "    .dataframe tbody tr th {\n",
       "        vertical-align: top;\n",
       "    }\n",
       "\n",
       "    .dataframe thead th {\n",
       "        text-align: right;\n",
       "    }\n",
       "</style>\n",
       "<table border=\"1\" class=\"dataframe\">\n",
       "  <thead>\n",
       "    <tr style=\"text-align: right;\">\n",
       "      <th></th>\n",
       "      <th>Name</th>\n",
       "      <th>Interceptions</th>\n",
       "      <th>Penalty committed</th>\n",
       "      <th>Clearances</th>\n",
       "      <th>Errors lead to goal</th>\n",
       "      <th>Dribbled past</th>\n",
       "      <th>Total passes</th>\n",
       "      <th>Accurate passes %</th>\n",
       "      <th>Accurate long balls %</th>\n",
       "      <th>Saves</th>\n",
       "      <th>Clean sheets</th>\n",
       "      <th>Penalties faced</th>\n",
       "      <th>Penalties saved</th>\n",
       "      <th>Goals conceded inside the box</th>\n",
       "      <th>Goals conceded outside the box</th>\n",
       "      <th>Yellow cards</th>\n",
       "      <th>Red cards</th>\n",
       "      <th>Aerial duels won %</th>\n",
       "      <th>Total duels won %</th>\n",
       "      <th>Appearances</th>\n",
       "      <th>Age Range</th>\n",
       "      <th>Position</th>\n",
       "      <th>League</th>\n",
       "      <th>Level</th>\n",
       "      <th>mediana</th>\n",
       "      <th>Name_Normalized</th>\n",
       "    </tr>\n",
       "  </thead>\n",
       "  <tbody>\n",
       "    <tr>\n",
       "      <th>743</th>\n",
       "      <td>Diego Mariño</td>\n",
       "      <td>0.00</td>\n",
       "      <td>0.0</td>\n",
       "      <td>0.65</td>\n",
       "      <td>0.12</td>\n",
       "      <td>0.12</td>\n",
       "      <td>25.59</td>\n",
       "      <td>67.82</td>\n",
       "      <td>44.22</td>\n",
       "      <td>2.29</td>\n",
       "      <td>0.24</td>\n",
       "      <td>0.00</td>\n",
       "      <td>0.0</td>\n",
       "      <td>1.06</td>\n",
       "      <td>0.12</td>\n",
       "      <td>0.00</td>\n",
       "      <td>0.0</td>\n",
       "      <td>75.00</td>\n",
       "      <td>62.50</td>\n",
       "      <td>17</td>\n",
       "      <td>3</td>\n",
       "      <td>1</td>\n",
       "      <td>La Liga 2</td>\n",
       "      <td>2</td>\n",
       "      <td>0.825</td>\n",
       "      <td>diego marino</td>\n",
       "    </tr>\n",
       "    <tr>\n",
       "      <th>1120</th>\n",
       "      <td>Simone Colombi</td>\n",
       "      <td>0.00</td>\n",
       "      <td>0.0</td>\n",
       "      <td>0.81</td>\n",
       "      <td>0.00</td>\n",
       "      <td>0.04</td>\n",
       "      <td>24.31</td>\n",
       "      <td>69.46</td>\n",
       "      <td>44.08</td>\n",
       "      <td>2.38</td>\n",
       "      <td>0.38</td>\n",
       "      <td>0.15</td>\n",
       "      <td>0.0</td>\n",
       "      <td>0.96</td>\n",
       "      <td>0.12</td>\n",
       "      <td>0.08</td>\n",
       "      <td>0.0</td>\n",
       "      <td>100.00</td>\n",
       "      <td>93.33</td>\n",
       "      <td>26</td>\n",
       "      <td>3</td>\n",
       "      <td>1</td>\n",
       "      <td>Italia Serie B</td>\n",
       "      <td>2</td>\n",
       "      <td>0.885</td>\n",
       "      <td>simone colombi</td>\n",
       "    </tr>\n",
       "    <tr>\n",
       "      <th>1121</th>\n",
       "      <td>Leandro Chichizola</td>\n",
       "      <td>0.00</td>\n",
       "      <td>0.0</td>\n",
       "      <td>0.71</td>\n",
       "      <td>0.06</td>\n",
       "      <td>0.12</td>\n",
       "      <td>28.18</td>\n",
       "      <td>61.38</td>\n",
       "      <td>40.13</td>\n",
       "      <td>1.94</td>\n",
       "      <td>0.41</td>\n",
       "      <td>0.12</td>\n",
       "      <td>0.0</td>\n",
       "      <td>0.65</td>\n",
       "      <td>0.12</td>\n",
       "      <td>0.12</td>\n",
       "      <td>0.0</td>\n",
       "      <td>83.33</td>\n",
       "      <td>72.73</td>\n",
       "      <td>17</td>\n",
       "      <td>3</td>\n",
       "      <td>1</td>\n",
       "      <td>Italia Serie B</td>\n",
       "      <td>2</td>\n",
       "      <td>0.680</td>\n",
       "      <td>leandro chichizola</td>\n",
       "    </tr>\n",
       "    <tr>\n",
       "      <th>1756</th>\n",
       "      <td>Leonardo Burián</td>\n",
       "      <td>0.05</td>\n",
       "      <td>0.0</td>\n",
       "      <td>0.68</td>\n",
       "      <td>0.00</td>\n",
       "      <td>0.05</td>\n",
       "      <td>23.00</td>\n",
       "      <td>68.19</td>\n",
       "      <td>45.20</td>\n",
       "      <td>1.95</td>\n",
       "      <td>0.32</td>\n",
       "      <td>0.11</td>\n",
       "      <td>0.0</td>\n",
       "      <td>0.74</td>\n",
       "      <td>0.11</td>\n",
       "      <td>0.05</td>\n",
       "      <td>0.0</td>\n",
       "      <td>88.89</td>\n",
       "      <td>80.00</td>\n",
       "      <td>19</td>\n",
       "      <td>3</td>\n",
       "      <td>1</td>\n",
       "      <td>LPFArgentina</td>\n",
       "      <td>2</td>\n",
       "      <td>0.710</td>\n",
       "      <td>leonardo burian</td>\n",
       "    </tr>\n",
       "    <tr>\n",
       "      <th>487</th>\n",
       "      <td>Kristoffer Nordfeldt</td>\n",
       "      <td>0.03</td>\n",
       "      <td>0.0</td>\n",
       "      <td>0.53</td>\n",
       "      <td>0.10</td>\n",
       "      <td>0.07</td>\n",
       "      <td>26.03</td>\n",
       "      <td>69.91</td>\n",
       "      <td>40.63</td>\n",
       "      <td>2.77</td>\n",
       "      <td>0.30</td>\n",
       "      <td>0.07</td>\n",
       "      <td>0.0</td>\n",
       "      <td>1.03</td>\n",
       "      <td>0.23</td>\n",
       "      <td>0.07</td>\n",
       "      <td>0.0</td>\n",
       "      <td>100.00</td>\n",
       "      <td>77.78</td>\n",
       "      <td>30</td>\n",
       "      <td>3</td>\n",
       "      <td>1</td>\n",
       "      <td>Suecia Allsvenskan</td>\n",
       "      <td>3</td>\n",
       "      <td>0.765</td>\n",
       "      <td>kristoffer nordfeldt</td>\n",
       "    </tr>\n",
       "  </tbody>\n",
       "</table>\n",
       "</div>"
      ],
      "text/plain": [
       "                      Name  Interceptions  Penalty committed  Clearances  \\\n",
       "743           Diego Mariño           0.00                0.0        0.65   \n",
       "1120        Simone Colombi           0.00                0.0        0.81   \n",
       "1121    Leandro Chichizola           0.00                0.0        0.71   \n",
       "1756       Leonardo Burián           0.05                0.0        0.68   \n",
       "487   Kristoffer Nordfeldt           0.03                0.0        0.53   \n",
       "\n",
       "      Errors lead to goal  Dribbled past  Total passes  Accurate passes %  \\\n",
       "743                  0.12           0.12         25.59              67.82   \n",
       "1120                 0.00           0.04         24.31              69.46   \n",
       "1121                 0.06           0.12         28.18              61.38   \n",
       "1756                 0.00           0.05         23.00              68.19   \n",
       "487                  0.10           0.07         26.03              69.91   \n",
       "\n",
       "      Accurate long balls %  Saves  Clean sheets  Penalties faced  \\\n",
       "743                   44.22   2.29          0.24             0.00   \n",
       "1120                  44.08   2.38          0.38             0.15   \n",
       "1121                  40.13   1.94          0.41             0.12   \n",
       "1756                  45.20   1.95          0.32             0.11   \n",
       "487                   40.63   2.77          0.30             0.07   \n",
       "\n",
       "      Penalties saved  Goals conceded inside the box  \\\n",
       "743               0.0                           1.06   \n",
       "1120              0.0                           0.96   \n",
       "1121              0.0                           0.65   \n",
       "1756              0.0                           0.74   \n",
       "487               0.0                           1.03   \n",
       "\n",
       "      Goals conceded outside the box  Yellow cards  Red cards  \\\n",
       "743                             0.12          0.00        0.0   \n",
       "1120                            0.12          0.08        0.0   \n",
       "1121                            0.12          0.12        0.0   \n",
       "1756                            0.11          0.05        0.0   \n",
       "487                             0.23          0.07        0.0   \n",
       "\n",
       "      Aerial duels won %  Total duels won %  Appearances  Age Range  Position  \\\n",
       "743                75.00              62.50           17          3         1   \n",
       "1120              100.00              93.33           26          3         1   \n",
       "1121               83.33              72.73           17          3         1   \n",
       "1756               88.89              80.00           19          3         1   \n",
       "487               100.00              77.78           30          3         1   \n",
       "\n",
       "                  League  Level  mediana       Name_Normalized  \n",
       "743            La Liga 2      2    0.825          diego marino  \n",
       "1120      Italia Serie B      2    0.885        simone colombi  \n",
       "1121      Italia Serie B      2    0.680    leandro chichizola  \n",
       "1756        LPFArgentina      2    0.710       leonardo burian  \n",
       "487   Suecia Allsvenskan      3    0.765  kristoffer nordfeldt  "
      ]
     },
     "execution_count": 25,
     "metadata": {},
     "output_type": "execute_result"
    }
   ],
   "source": [
    "buscar_jugadores_similares('GaBriEl AriAs', caracteristicas_grafico)"
   ]
  }
 ],
 "metadata": {
  "kernelspec": {
   "display_name": "upp",
   "language": "python",
   "name": "python3"
  },
  "language_info": {
   "codemirror_mode": {
    "name": "ipython",
    "version": 3
   },
   "file_extension": ".py",
   "mimetype": "text/x-python",
   "name": "python",
   "nbconvert_exporter": "python",
   "pygments_lexer": "ipython3",
   "version": "3.11.6"
  }
 },
 "nbformat": 4,
 "nbformat_minor": 2
}
