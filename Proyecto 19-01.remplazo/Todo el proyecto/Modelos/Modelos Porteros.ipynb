{
 "cells": [
  {
   "cell_type": "code",
   "execution_count": 15,
   "metadata": {},
   "outputs": [],
   "source": [
    "import pandas as pd"
   ]
  },
  {
   "cell_type": "code",
   "execution_count": 16,
   "metadata": {},
   "outputs": [
    {
     "data": {
      "text/html": [
       "<div>\n",
       "<style scoped>\n",
       "    .dataframe tbody tr th:only-of-type {\n",
       "        vertical-align: middle;\n",
       "    }\n",
       "\n",
       "    .dataframe tbody tr th {\n",
       "        vertical-align: top;\n",
       "    }\n",
       "\n",
       "    .dataframe thead th {\n",
       "        text-align: right;\n",
       "    }\n",
       "</style>\n",
       "<table border=\"1\" class=\"dataframe\">\n",
       "  <thead>\n",
       "    <tr style=\"text-align: right;\">\n",
       "      <th></th>\n",
       "      <th>Name</th>\n",
       "      <th>Interceptions</th>\n",
       "      <th>Penalty committed</th>\n",
       "      <th>Errors lead to goal</th>\n",
       "      <th>Dribbled past</th>\n",
       "      <th>Total passes</th>\n",
       "      <th>Accurate passes %</th>\n",
       "      <th>Accurate long balls %</th>\n",
       "      <th>Saves</th>\n",
       "      <th>Clean sheets</th>\n",
       "      <th>Penalties faced</th>\n",
       "      <th>Penalties saved</th>\n",
       "      <th>Goals conceded inside the box</th>\n",
       "      <th>Goals conceded outside the box</th>\n",
       "      <th>Aerial duels won %</th>\n",
       "      <th>Total duels won %</th>\n",
       "      <th>Appearances</th>\n",
       "      <th>Age Range</th>\n",
       "      <th>Position</th>\n",
       "      <th>League</th>\n",
       "      <th>Level</th>\n",
       "    </tr>\n",
       "  </thead>\n",
       "  <tbody>\n",
       "    <tr>\n",
       "      <th>0</th>\n",
       "      <td>Brian Heras</td>\n",
       "      <td>0.00</td>\n",
       "      <td>0.0</td>\n",
       "      <td>0.00</td>\n",
       "      <td>0.00</td>\n",
       "      <td>23.71</td>\n",
       "      <td>54.52</td>\n",
       "      <td>43.08</td>\n",
       "      <td>4.21</td>\n",
       "      <td>0.50</td>\n",
       "      <td>0.21</td>\n",
       "      <td>0.00</td>\n",
       "      <td>0.57</td>\n",
       "      <td>0.14</td>\n",
       "      <td>66.67</td>\n",
       "      <td>85.71</td>\n",
       "      <td>14</td>\n",
       "      <td>2</td>\n",
       "      <td>1</td>\n",
       "      <td>Ecuador Serie A</td>\n",
       "      <td>3</td>\n",
       "    </tr>\n",
       "    <tr>\n",
       "      <th>1</th>\n",
       "      <td>Alexander Domínguez</td>\n",
       "      <td>0.00</td>\n",
       "      <td>0.0</td>\n",
       "      <td>0.00</td>\n",
       "      <td>0.00</td>\n",
       "      <td>23.00</td>\n",
       "      <td>77.13</td>\n",
       "      <td>53.85</td>\n",
       "      <td>3.41</td>\n",
       "      <td>0.52</td>\n",
       "      <td>0.15</td>\n",
       "      <td>0.07</td>\n",
       "      <td>0.52</td>\n",
       "      <td>0.07</td>\n",
       "      <td>100.00</td>\n",
       "      <td>100.00</td>\n",
       "      <td>27</td>\n",
       "      <td>3</td>\n",
       "      <td>1</td>\n",
       "      <td>Ecuador Serie A</td>\n",
       "      <td>3</td>\n",
       "    </tr>\n",
       "    <tr>\n",
       "      <th>2</th>\n",
       "      <td>Rafael Romo</td>\n",
       "      <td>0.00</td>\n",
       "      <td>0.0</td>\n",
       "      <td>0.00</td>\n",
       "      <td>0.09</td>\n",
       "      <td>24.65</td>\n",
       "      <td>74.60</td>\n",
       "      <td>43.93</td>\n",
       "      <td>4.04</td>\n",
       "      <td>0.43</td>\n",
       "      <td>0.13</td>\n",
       "      <td>0.00</td>\n",
       "      <td>1.09</td>\n",
       "      <td>0.04</td>\n",
       "      <td>75.00</td>\n",
       "      <td>75.00</td>\n",
       "      <td>23</td>\n",
       "      <td>3</td>\n",
       "      <td>1</td>\n",
       "      <td>Ecuador Serie A</td>\n",
       "      <td>3</td>\n",
       "    </tr>\n",
       "    <tr>\n",
       "      <th>3</th>\n",
       "      <td>Hernán Galíndez</td>\n",
       "      <td>0.00</td>\n",
       "      <td>0.0</td>\n",
       "      <td>0.00</td>\n",
       "      <td>0.04</td>\n",
       "      <td>24.91</td>\n",
       "      <td>57.59</td>\n",
       "      <td>35.85</td>\n",
       "      <td>4.04</td>\n",
       "      <td>0.43</td>\n",
       "      <td>0.13</td>\n",
       "      <td>0.00</td>\n",
       "      <td>1.00</td>\n",
       "      <td>0.17</td>\n",
       "      <td>50.00</td>\n",
       "      <td>60.00</td>\n",
       "      <td>23</td>\n",
       "      <td>3</td>\n",
       "      <td>1</td>\n",
       "      <td>Ecuador Serie A</td>\n",
       "      <td>3</td>\n",
       "    </tr>\n",
       "    <tr>\n",
       "      <th>4</th>\n",
       "      <td>Pedro Ortiz</td>\n",
       "      <td>0.00</td>\n",
       "      <td>0.0</td>\n",
       "      <td>0.00</td>\n",
       "      <td>0.03</td>\n",
       "      <td>21.00</td>\n",
       "      <td>68.89</td>\n",
       "      <td>41.46</td>\n",
       "      <td>3.37</td>\n",
       "      <td>0.47</td>\n",
       "      <td>0.27</td>\n",
       "      <td>0.03</td>\n",
       "      <td>0.80</td>\n",
       "      <td>0.13</td>\n",
       "      <td>100.00</td>\n",
       "      <td>85.71</td>\n",
       "      <td>30</td>\n",
       "      <td>3</td>\n",
       "      <td>1</td>\n",
       "      <td>Ecuador Serie A</td>\n",
       "      <td>3</td>\n",
       "    </tr>\n",
       "    <tr>\n",
       "      <th>...</th>\n",
       "      <td>...</td>\n",
       "      <td>...</td>\n",
       "      <td>...</td>\n",
       "      <td>...</td>\n",
       "      <td>...</td>\n",
       "      <td>...</td>\n",
       "      <td>...</td>\n",
       "      <td>...</td>\n",
       "      <td>...</td>\n",
       "      <td>...</td>\n",
       "      <td>...</td>\n",
       "      <td>...</td>\n",
       "      <td>...</td>\n",
       "      <td>...</td>\n",
       "      <td>...</td>\n",
       "      <td>...</td>\n",
       "      <td>...</td>\n",
       "      <td>...</td>\n",
       "      <td>...</td>\n",
       "      <td>...</td>\n",
       "      <td>...</td>\n",
       "    </tr>\n",
       "    <tr>\n",
       "      <th>921</th>\n",
       "      <td>Leonardo Burián</td>\n",
       "      <td>0.05</td>\n",
       "      <td>0.0</td>\n",
       "      <td>0.00</td>\n",
       "      <td>0.05</td>\n",
       "      <td>23.00</td>\n",
       "      <td>68.19</td>\n",
       "      <td>45.20</td>\n",
       "      <td>1.95</td>\n",
       "      <td>0.32</td>\n",
       "      <td>0.11</td>\n",
       "      <td>0.00</td>\n",
       "      <td>0.74</td>\n",
       "      <td>0.11</td>\n",
       "      <td>88.89</td>\n",
       "      <td>80.00</td>\n",
       "      <td>19</td>\n",
       "      <td>3</td>\n",
       "      <td>1</td>\n",
       "      <td>Argentina LPF</td>\n",
       "      <td>2</td>\n",
       "    </tr>\n",
       "    <tr>\n",
       "      <th>922</th>\n",
       "      <td>Marcos Ledesma</td>\n",
       "      <td>0.06</td>\n",
       "      <td>0.0</td>\n",
       "      <td>0.11</td>\n",
       "      <td>0.06</td>\n",
       "      <td>24.39</td>\n",
       "      <td>38.04</td>\n",
       "      <td>28.38</td>\n",
       "      <td>3.11</td>\n",
       "      <td>0.28</td>\n",
       "      <td>0.17</td>\n",
       "      <td>0.06</td>\n",
       "      <td>0.89</td>\n",
       "      <td>0.28</td>\n",
       "      <td>66.67</td>\n",
       "      <td>71.43</td>\n",
       "      <td>18</td>\n",
       "      <td>2</td>\n",
       "      <td>1</td>\n",
       "      <td>Argentina LPF</td>\n",
       "      <td>2</td>\n",
       "    </tr>\n",
       "    <tr>\n",
       "      <th>923</th>\n",
       "      <td>Gabriel Arias</td>\n",
       "      <td>0.00</td>\n",
       "      <td>0.0</td>\n",
       "      <td>0.04</td>\n",
       "      <td>0.13</td>\n",
       "      <td>25.54</td>\n",
       "      <td>72.10</td>\n",
       "      <td>39.35</td>\n",
       "      <td>2.42</td>\n",
       "      <td>0.25</td>\n",
       "      <td>0.08</td>\n",
       "      <td>0.00</td>\n",
       "      <td>1.04</td>\n",
       "      <td>0.21</td>\n",
       "      <td>83.33</td>\n",
       "      <td>75.00</td>\n",
       "      <td>24</td>\n",
       "      <td>3</td>\n",
       "      <td>1</td>\n",
       "      <td>Argentina LPF</td>\n",
       "      <td>2</td>\n",
       "    </tr>\n",
       "    <tr>\n",
       "      <th>924</th>\n",
       "      <td>Federico Lanzillota</td>\n",
       "      <td>0.07</td>\n",
       "      <td>0.0</td>\n",
       "      <td>0.07</td>\n",
       "      <td>0.07</td>\n",
       "      <td>27.07</td>\n",
       "      <td>81.27</td>\n",
       "      <td>50.00</td>\n",
       "      <td>1.79</td>\n",
       "      <td>0.43</td>\n",
       "      <td>0.14</td>\n",
       "      <td>0.00</td>\n",
       "      <td>0.79</td>\n",
       "      <td>0.29</td>\n",
       "      <td>50.00</td>\n",
       "      <td>62.50</td>\n",
       "      <td>14</td>\n",
       "      <td>3</td>\n",
       "      <td>1</td>\n",
       "      <td>Argentina LPF</td>\n",
       "      <td>2</td>\n",
       "    </tr>\n",
       "    <tr>\n",
       "      <th>925</th>\n",
       "      <td>Lucas Acosta</td>\n",
       "      <td>0.06</td>\n",
       "      <td>0.0</td>\n",
       "      <td>0.17</td>\n",
       "      <td>0.00</td>\n",
       "      <td>28.50</td>\n",
       "      <td>64.33</td>\n",
       "      <td>34.53</td>\n",
       "      <td>2.67</td>\n",
       "      <td>0.39</td>\n",
       "      <td>0.06</td>\n",
       "      <td>0.00</td>\n",
       "      <td>0.67</td>\n",
       "      <td>0.28</td>\n",
       "      <td>50.00</td>\n",
       "      <td>33.33</td>\n",
       "      <td>18</td>\n",
       "      <td>2</td>\n",
       "      <td>1</td>\n",
       "      <td>Argentina LPF</td>\n",
       "      <td>2</td>\n",
       "    </tr>\n",
       "  </tbody>\n",
       "</table>\n",
       "<p>926 rows × 21 columns</p>\n",
       "</div>"
      ],
      "text/plain": [
       "                    Name  Interceptions  Penalty committed  \\\n",
       "0            Brian Heras           0.00                0.0   \n",
       "1    Alexander Domínguez           0.00                0.0   \n",
       "2            Rafael Romo           0.00                0.0   \n",
       "3        Hernán Galíndez           0.00                0.0   \n",
       "4            Pedro Ortiz           0.00                0.0   \n",
       "..                   ...            ...                ...   \n",
       "921      Leonardo Burián           0.05                0.0   \n",
       "922       Marcos Ledesma           0.06                0.0   \n",
       "923        Gabriel Arias           0.00                0.0   \n",
       "924  Federico Lanzillota           0.07                0.0   \n",
       "925         Lucas Acosta           0.06                0.0   \n",
       "\n",
       "     Errors lead to goal  Dribbled past  Total passes  Accurate passes %  \\\n",
       "0                   0.00           0.00         23.71              54.52   \n",
       "1                   0.00           0.00         23.00              77.13   \n",
       "2                   0.00           0.09         24.65              74.60   \n",
       "3                   0.00           0.04         24.91              57.59   \n",
       "4                   0.00           0.03         21.00              68.89   \n",
       "..                   ...            ...           ...                ...   \n",
       "921                 0.00           0.05         23.00              68.19   \n",
       "922                 0.11           0.06         24.39              38.04   \n",
       "923                 0.04           0.13         25.54              72.10   \n",
       "924                 0.07           0.07         27.07              81.27   \n",
       "925                 0.17           0.00         28.50              64.33   \n",
       "\n",
       "     Accurate long balls %  Saves  Clean sheets  Penalties faced  \\\n",
       "0                    43.08   4.21          0.50             0.21   \n",
       "1                    53.85   3.41          0.52             0.15   \n",
       "2                    43.93   4.04          0.43             0.13   \n",
       "3                    35.85   4.04          0.43             0.13   \n",
       "4                    41.46   3.37          0.47             0.27   \n",
       "..                     ...    ...           ...              ...   \n",
       "921                  45.20   1.95          0.32             0.11   \n",
       "922                  28.38   3.11          0.28             0.17   \n",
       "923                  39.35   2.42          0.25             0.08   \n",
       "924                  50.00   1.79          0.43             0.14   \n",
       "925                  34.53   2.67          0.39             0.06   \n",
       "\n",
       "     Penalties saved  Goals conceded inside the box  \\\n",
       "0               0.00                           0.57   \n",
       "1               0.07                           0.52   \n",
       "2               0.00                           1.09   \n",
       "3               0.00                           1.00   \n",
       "4               0.03                           0.80   \n",
       "..               ...                            ...   \n",
       "921             0.00                           0.74   \n",
       "922             0.06                           0.89   \n",
       "923             0.00                           1.04   \n",
       "924             0.00                           0.79   \n",
       "925             0.00                           0.67   \n",
       "\n",
       "     Goals conceded outside the box  Aerial duels won %  Total duels won %  \\\n",
       "0                              0.14               66.67              85.71   \n",
       "1                              0.07              100.00             100.00   \n",
       "2                              0.04               75.00              75.00   \n",
       "3                              0.17               50.00              60.00   \n",
       "4                              0.13              100.00              85.71   \n",
       "..                              ...                 ...                ...   \n",
       "921                            0.11               88.89              80.00   \n",
       "922                            0.28               66.67              71.43   \n",
       "923                            0.21               83.33              75.00   \n",
       "924                            0.29               50.00              62.50   \n",
       "925                            0.28               50.00              33.33   \n",
       "\n",
       "     Appearances  Age Range  Position           League  Level  \n",
       "0             14          2         1  Ecuador Serie A      3  \n",
       "1             27          3         1  Ecuador Serie A      3  \n",
       "2             23          3         1  Ecuador Serie A      3  \n",
       "3             23          3         1  Ecuador Serie A      3  \n",
       "4             30          3         1  Ecuador Serie A      3  \n",
       "..           ...        ...       ...              ...    ...  \n",
       "921           19          3         1    Argentina LPF      2  \n",
       "922           18          2         1    Argentina LPF      2  \n",
       "923           24          3         1    Argentina LPF      2  \n",
       "924           14          3         1    Argentina LPF      2  \n",
       "925           18          2         1    Argentina LPF      2  \n",
       "\n",
       "[926 rows x 21 columns]"
      ]
     },
     "execution_count": 16,
     "metadata": {},
     "output_type": "execute_result"
    }
   ],
   "source": [
    "Data = pd.read_csv(r\"D:\\ALGORITMO RECLUTADOR\\Proyecto 19-01.remplazo\\Todo el proyecto\\Data Posición\\Porteros.csv\")\n",
    "pd.set_option('display.max_columns', None)\n",
    "Data"
   ]
  },
  {
   "cell_type": "code",
   "execution_count": 17,
   "metadata": {},
   "outputs": [
    {
     "name": "stdout",
     "output_type": "stream",
     "text": [
      "2.8811663066954645\n",
      "1.17\n",
      "5.0\n",
      "----------------------------------------------------------------------------------------------------\n",
      "0.28301295896328293\n",
      "0.0\n",
      "0.7\n",
      "----------------------------------------------------------------------------------------------------\n",
      "64.07237580993521\n",
      "31.36\n",
      "89.96\n",
      "----------------------------------------------------------------------------------------------------\n",
      "82.53186825053996\n",
      "0.0\n",
      "100.0\n"
     ]
    }
   ],
   "source": [
    "Saves_media = Data[\"Saves\"].mean()\n",
    "Saves_min = Data[\"Saves\"].min()\n",
    "Saves_max = Data[\"Saves\"].max()\n",
    "print(Saves_media)\n",
    "print(Saves_min)\n",
    "print(Saves_max)\n",
    "\n",
    "print(\"-\"*100)\n",
    "\n",
    "Clean_sheets_media = Data[\"Clean sheets\"].mean()\n",
    "Clean_sheets_min = Data[\"Clean sheets\"].min()\n",
    "Clean_sheets_max = Data[\"Clean sheets\"].max()\n",
    "print(Clean_sheets_media)\n",
    "print(Clean_sheets_min)\n",
    "print(Clean_sheets_max)\n",
    "\n",
    "print(\"-\"*100)\n",
    "\n",
    "pases_media = Data[\"Accurate passes %\"].mean()\n",
    "pases_min = Data[\"Accurate passes %\"].min()\n",
    "pases_max = Data[\"Accurate passes %\"].max()\n",
    "print(pases_media)\n",
    "print(pases_min)\n",
    "print(pases_max)\n",
    "\n",
    "print(\"-\"*100)\n",
    "\n",
    "duels_won_media = Data[\"Total duels won %\"].mean()\n",
    "duels_won_min= Data[\"Total duels won %\"].min()\n",
    "duels_won_max = Data[\"Total duels won %\"].max()\n",
    "print(duels_won_media)\n",
    "print(duels_won_min)\n",
    "print(duels_won_max)"
   ]
  },
  {
   "cell_type": "code",
   "execution_count": 18,
   "metadata": {},
   "outputs": [],
   "source": [
    "import pandas as pd\n",
    "from sklearn.neighbors import NearestNeighbors\n",
    "from sklearn.preprocessing import StandardScaler\n",
    "import plotly.graph_objects as go\n",
    "import unicodedata\n",
    "import matplotlib.pyplot as plt\n",
    "\n",
    "\n",
    "Columna_habilidades = Data.columns.drop([\"Name\", \"League\"])\n",
    "\n",
    "features = Data[Columna_habilidades]\n",
    "\n",
    "# Crea un objeto StandardScaler\n",
    "scaler = StandardScaler()\n",
    "\n",
    "# Ajusta el escalador a tus datos y luego transforma tus datos\n",
    "features_scaled = scaler.fit_transform(features)\n",
    "\n",
    "# Inicializa el modelo NearestNeighbors\n",
    "model = NearestNeighbors(n_neighbors=6)  # Buscamos 6 vecinos porque uno de ellos será el jugador mismo\n",
    "\n",
    "# Ajusta el modelo a tus datos\n",
    "model.fit(features_scaled)\n",
    "\n",
    "caracteristicas_grafico = ['Saves', 'Clean sheets', 'Total duels won %', 'Penalties saved', 'Goals conceded inside the box', 'Goals conceded outside the box', 'Accurate long balls %']\n",
    "\n",
    "# Función para normalizar nombres (ignorar mayúsculas y acentos)\n",
    "def normalizar_nombre(nombre):\n",
    "    nombre = nombre.lower()\n",
    "    nombre = unicodedata.normalize('NFD', nombre)\n",
    "    nombre = nombre.encode('ascii', 'ignore').decode(\"utf-8\")\n",
    "    return nombre\n",
    "\n",
    "def buscar_jugadores_similares(nombre, caracteristicas_grafico):\n",
    "    # Normaliza el nombre que buscas\n",
    "    nombre_normalizado = normalizar_nombre(nombre)\n",
    "\n",
    "    # Aplica la normalización a los nombres en el conjunto de datos\n",
    "    Data['Name_Normalized'] = Data['Name'].apply(normalizar_nombre)\n",
    "\n",
    "    # Busca el jugador con el nombre normalizado\n",
    "    jugador = Data[Data['Name_Normalized'] == nombre_normalizado]\n",
    "\n",
    "    if len(jugador) == 0:\n",
    "        return 'Jugador no encontrado'\n",
    "    else:\n",
    "        jugador_scaled = scaler.transform(jugador[features.columns])\n",
    "        distancias, indices = model.kneighbors(jugador_scaled)\n",
    "        jugadores_similares = Data.iloc[indices[0]]  # Excluimos el primer resultado porque será el jugador mismo\n",
    "\n",
    "        display(jugadores_similares)\n",
    "\n",
    "        # Escala todas las características de los jugadores similares\n",
    "        jugadores_similares_scaled = scaler.transform(jugadores_similares[features.columns])\n",
    "\n",
    "        # Define una lista de colores\n",
    "        colores = ['blue', 'green', 'red', 'cyan', 'magenta', 'yellow', 'black']\n",
    "\n",
    "        # Crea un gráfico de radar para cada jugador similar\n",
    "        fig = go.Figure()\n",
    "        for i, row in enumerate(jugadores_similares_scaled):\n",
    "            color = colores[i % len(colores)]  # Elige un color de la lista\n",
    "            fig.add_trace(go.Scatterpolar(\n",
    "                r=row[features.columns.isin(caracteristicas_grafico)],\n",
    "                theta=caracteristicas_grafico,\n",
    "                fill='toself',\n",
    "                name=jugadores_similares.iloc[i]['Name'],\n",
    "                line=dict(color=color)\n",
    "            ))\n",
    "\n",
    "        fig.update_layout(\n",
    "            autosize=False,\n",
    "            width=800,\n",
    "            height=800,\n",
    "            polar=dict(\n",
    "                radialaxis=dict(\n",
    "                    visible=True,\n",
    "                    range=[-2, 10]  # Ajusta este rango según tus datos\n",
    "                )),\n",
    "            showlegend=True\n",
    "        )\n",
    "        fig.show()\n",
    "        \n",
    "       # Configura una cuadrícula de subplots con 2 filas y 2 columnas\n",
    "        fig, axs = plt.subplots(2, 2, figsize=(20, 12))  # Ajusta el tamaño según sea necesario\n",
    "\n",
    "        # Gráfico de dispersión para la media-Goals\n",
    "        for i, name in enumerate(jugadores_similares['Name']):\n",
    "            axs[0, 0].scatter(i, jugadores_similares.loc[jugadores_similares['Name'] == name, 'Saves'], color=colores[i % len(colores)], marker='o')\n",
    "        for line in [Saves_max, Saves_media, Saves_min]:\n",
    "            axs[0, 0].axhline(y=line, color='r', linestyle='--')\n",
    "        axs[0, 0].set_title('Comparativa de Salvadas de los jugadores similares')\n",
    "        axs[0, 0].set_xticks(range(len(jugadores_similares)))\n",
    "        axs[0, 0].set_xticklabels(jugadores_similares['Name'], rotation=45)\n",
    "        axs[0, 0].set_xlabel('Jugadores')\n",
    "        axs[0, 0].set_ylabel('Saves')\n",
    "\n",
    "        # Gráfico de dispersión para la media-Successful\n",
    "        for i, name in enumerate(jugadores_similares['Name']):\n",
    "            axs[0, 1].scatter(i, jugadores_similares.loc[jugadores_similares['Name'] == name, 'Clean sheets'], color=colores[i % len(colores)], marker='o')\n",
    "        for line in [Clean_sheets_max, Clean_sheets_media, Clean_sheets_min]:\n",
    "            axs[0, 1].axhline(y=line, color='r', linestyle='--')\n",
    "        axs[0, 1].set_title('Comparativa de Porteria limpia de los jugadores similares')\n",
    "        axs[0, 1].set_xticks(range(len(jugadores_similares)))\n",
    "        axs[0, 1].set_xticklabels(jugadores_similares['Name'], rotation=45)\n",
    "        axs[0, 1].set_xlabel('Jugadores')\n",
    "        axs[0, 1].set_ylabel('Clean sheets')\n",
    "\n",
    "        # Gráfico de dispersión para la media-Accurate passes %\n",
    "        for i, name in enumerate(jugadores_similares['Name']):\n",
    "            axs[1, 0].scatter(i, jugadores_similares.loc[jugadores_similares['Name'] == name, 'Accurate passes %'], color=colores[i % len(colores)], marker='o')\n",
    "        for line in [pases_max, pases_media, pases_min]:\n",
    "            axs[1, 0].axhline(y=line, color='r', linestyle='--')\n",
    "        axs[1, 0].set_title('Comparativa de Pases efectivos de los jugadores similares')\n",
    "        axs[1, 0].set_xticks(range(len(jugadores_similares)))\n",
    "        axs[1, 0].set_xticklabels(jugadores_similares['Name'], rotation=45)\n",
    "        axs[1, 0].set_xlabel('Jugadores')\n",
    "        axs[1, 0].set_ylabel('shots')\n",
    "\n",
    "        # Gráfico de dispersión para la media-Total duels won %\n",
    "        for i, name in enumerate(jugadores_similares['Name']):\n",
    "            axs[1, 1].scatter(i, jugadores_similares.loc[jugadores_similares['Name'] == name, 'Total duels won %'], color=colores[i % len(colores)], marker='o')\n",
    "        for line in [duels_won_max, duels_won_media, duels_won_min]:\n",
    "            axs[1, 1].axhline(y=line, color='r', linestyle='--')\n",
    "        axs[1, 1].set_title('Comparativa de Duelos ganados de los jugadores similares')\n",
    "        axs[1, 1].set_xticks(range(len(jugadores_similares)))\n",
    "        axs[1, 1].set_xticklabels(jugadores_similares['Name'], rotation=45)\n",
    "        axs[1, 1].set_xlabel('Jugadores')\n",
    "        axs[1, 1].set_ylabel('missed')\n",
    "\n",
    "        # Ajusta el layout para que no haya superposición de elementos\n",
    "        plt.tight_layout()\n",
    "        plt.show()\n",
    "\n",
    "\n",
    "        return \n"
   ]
  },
  {
   "cell_type": "code",
   "execution_count": 19,
   "metadata": {},
   "outputs": [
    {
     "data": {
      "text/html": [
       "<div>\n",
       "<style scoped>\n",
       "    .dataframe tbody tr th:only-of-type {\n",
       "        vertical-align: middle;\n",
       "    }\n",
       "\n",
       "    .dataframe tbody tr th {\n",
       "        vertical-align: top;\n",
       "    }\n",
       "\n",
       "    .dataframe thead th {\n",
       "        text-align: right;\n",
       "    }\n",
       "</style>\n",
       "<table border=\"1\" class=\"dataframe\">\n",
       "  <thead>\n",
       "    <tr style=\"text-align: right;\">\n",
       "      <th></th>\n",
       "      <th>Name</th>\n",
       "      <th>Interceptions</th>\n",
       "      <th>Penalty committed</th>\n",
       "      <th>Errors lead to goal</th>\n",
       "      <th>Dribbled past</th>\n",
       "      <th>Total passes</th>\n",
       "      <th>Accurate passes %</th>\n",
       "      <th>Accurate long balls %</th>\n",
       "      <th>Saves</th>\n",
       "      <th>Clean sheets</th>\n",
       "      <th>Penalties faced</th>\n",
       "      <th>Penalties saved</th>\n",
       "      <th>Goals conceded inside the box</th>\n",
       "      <th>Goals conceded outside the box</th>\n",
       "      <th>Aerial duels won %</th>\n",
       "      <th>Total duels won %</th>\n",
       "      <th>Appearances</th>\n",
       "      <th>Age Range</th>\n",
       "      <th>Position</th>\n",
       "      <th>League</th>\n",
       "      <th>Level</th>\n",
       "      <th>Name_Normalized</th>\n",
       "    </tr>\n",
       "  </thead>\n",
       "  <tbody>\n",
       "    <tr>\n",
       "      <th>0</th>\n",
       "      <td>Brian Heras</td>\n",
       "      <td>0.0</td>\n",
       "      <td>0.0</td>\n",
       "      <td>0.00</td>\n",
       "      <td>0.00</td>\n",
       "      <td>23.71</td>\n",
       "      <td>54.52</td>\n",
       "      <td>43.08</td>\n",
       "      <td>4.21</td>\n",
       "      <td>0.50</td>\n",
       "      <td>0.21</td>\n",
       "      <td>0.00</td>\n",
       "      <td>0.57</td>\n",
       "      <td>0.14</td>\n",
       "      <td>66.67</td>\n",
       "      <td>85.71</td>\n",
       "      <td>14</td>\n",
       "      <td>2</td>\n",
       "      <td>1</td>\n",
       "      <td>Ecuador Serie A</td>\n",
       "      <td>3</td>\n",
       "      <td>brian heras</td>\n",
       "    </tr>\n",
       "    <tr>\n",
       "      <th>430</th>\n",
       "      <td>Ángelo Campos</td>\n",
       "      <td>0.0</td>\n",
       "      <td>0.0</td>\n",
       "      <td>0.00</td>\n",
       "      <td>0.00</td>\n",
       "      <td>23.22</td>\n",
       "      <td>56.62</td>\n",
       "      <td>41.94</td>\n",
       "      <td>2.96</td>\n",
       "      <td>0.44</td>\n",
       "      <td>0.11</td>\n",
       "      <td>0.00</td>\n",
       "      <td>0.63</td>\n",
       "      <td>0.15</td>\n",
       "      <td>66.67</td>\n",
       "      <td>92.31</td>\n",
       "      <td>27</td>\n",
       "      <td>2</td>\n",
       "      <td>1</td>\n",
       "      <td>Peru Liga 1</td>\n",
       "      <td>3</td>\n",
       "      <td>angelo campos</td>\n",
       "    </tr>\n",
       "    <tr>\n",
       "      <th>904</th>\n",
       "      <td>Tomás Marchiori</td>\n",
       "      <td>0.0</td>\n",
       "      <td>0.0</td>\n",
       "      <td>0.04</td>\n",
       "      <td>0.00</td>\n",
       "      <td>22.30</td>\n",
       "      <td>57.31</td>\n",
       "      <td>39.24</td>\n",
       "      <td>3.19</td>\n",
       "      <td>0.41</td>\n",
       "      <td>0.15</td>\n",
       "      <td>0.04</td>\n",
       "      <td>0.89</td>\n",
       "      <td>0.11</td>\n",
       "      <td>83.33</td>\n",
       "      <td>90.91</td>\n",
       "      <td>27</td>\n",
       "      <td>2</td>\n",
       "      <td>1</td>\n",
       "      <td>Argentina LPF</td>\n",
       "      <td>2</td>\n",
       "      <td>tomas marchiori</td>\n",
       "    </tr>\n",
       "    <tr>\n",
       "      <th>514</th>\n",
       "      <td>Octavian Vâlceanu</td>\n",
       "      <td>0.0</td>\n",
       "      <td>0.0</td>\n",
       "      <td>0.00</td>\n",
       "      <td>0.00</td>\n",
       "      <td>24.81</td>\n",
       "      <td>60.93</td>\n",
       "      <td>40.48</td>\n",
       "      <td>2.81</td>\n",
       "      <td>0.38</td>\n",
       "      <td>0.15</td>\n",
       "      <td>0.00</td>\n",
       "      <td>1.00</td>\n",
       "      <td>0.12</td>\n",
       "      <td>80.00</td>\n",
       "      <td>75.00</td>\n",
       "      <td>26</td>\n",
       "      <td>2</td>\n",
       "      <td>1</td>\n",
       "      <td>Rumania Superliga</td>\n",
       "      <td>3</td>\n",
       "      <td>octavian valceanu</td>\n",
       "    </tr>\n",
       "    <tr>\n",
       "      <th>3</th>\n",
       "      <td>Hernán Galíndez</td>\n",
       "      <td>0.0</td>\n",
       "      <td>0.0</td>\n",
       "      <td>0.00</td>\n",
       "      <td>0.04</td>\n",
       "      <td>24.91</td>\n",
       "      <td>57.59</td>\n",
       "      <td>35.85</td>\n",
       "      <td>4.04</td>\n",
       "      <td>0.43</td>\n",
       "      <td>0.13</td>\n",
       "      <td>0.00</td>\n",
       "      <td>1.00</td>\n",
       "      <td>0.17</td>\n",
       "      <td>50.00</td>\n",
       "      <td>60.00</td>\n",
       "      <td>23</td>\n",
       "      <td>3</td>\n",
       "      <td>1</td>\n",
       "      <td>Ecuador Serie A</td>\n",
       "      <td>3</td>\n",
       "      <td>hernan galindez</td>\n",
       "    </tr>\n",
       "    <tr>\n",
       "      <th>896</th>\n",
       "      <td>Sebastián Meza</td>\n",
       "      <td>0.0</td>\n",
       "      <td>0.0</td>\n",
       "      <td>0.05</td>\n",
       "      <td>0.00</td>\n",
       "      <td>21.81</td>\n",
       "      <td>48.47</td>\n",
       "      <td>42.30</td>\n",
       "      <td>3.86</td>\n",
       "      <td>0.48</td>\n",
       "      <td>0.24</td>\n",
       "      <td>0.05</td>\n",
       "      <td>0.71</td>\n",
       "      <td>0.14</td>\n",
       "      <td>100.00</td>\n",
       "      <td>100.00</td>\n",
       "      <td>21</td>\n",
       "      <td>1</td>\n",
       "      <td>1</td>\n",
       "      <td>Argentina LPF</td>\n",
       "      <td>2</td>\n",
       "      <td>sebastian meza</td>\n",
       "    </tr>\n",
       "  </tbody>\n",
       "</table>\n",
       "</div>"
      ],
      "text/plain": [
       "                  Name  Interceptions  Penalty committed  Errors lead to goal  \\\n",
       "0          Brian Heras            0.0                0.0                 0.00   \n",
       "430      Ángelo Campos            0.0                0.0                 0.00   \n",
       "904    Tomás Marchiori            0.0                0.0                 0.04   \n",
       "514  Octavian Vâlceanu            0.0                0.0                 0.00   \n",
       "3      Hernán Galíndez            0.0                0.0                 0.00   \n",
       "896     Sebastián Meza            0.0                0.0                 0.05   \n",
       "\n",
       "     Dribbled past  Total passes  Accurate passes %  Accurate long balls %  \\\n",
       "0             0.00         23.71              54.52                  43.08   \n",
       "430           0.00         23.22              56.62                  41.94   \n",
       "904           0.00         22.30              57.31                  39.24   \n",
       "514           0.00         24.81              60.93                  40.48   \n",
       "3             0.04         24.91              57.59                  35.85   \n",
       "896           0.00         21.81              48.47                  42.30   \n",
       "\n",
       "     Saves  Clean sheets  Penalties faced  Penalties saved  \\\n",
       "0     4.21          0.50             0.21             0.00   \n",
       "430   2.96          0.44             0.11             0.00   \n",
       "904   3.19          0.41             0.15             0.04   \n",
       "514   2.81          0.38             0.15             0.00   \n",
       "3     4.04          0.43             0.13             0.00   \n",
       "896   3.86          0.48             0.24             0.05   \n",
       "\n",
       "     Goals conceded inside the box  Goals conceded outside the box  \\\n",
       "0                             0.57                            0.14   \n",
       "430                           0.63                            0.15   \n",
       "904                           0.89                            0.11   \n",
       "514                           1.00                            0.12   \n",
       "3                             1.00                            0.17   \n",
       "896                           0.71                            0.14   \n",
       "\n",
       "     Aerial duels won %  Total duels won %  Appearances  Age Range  Position  \\\n",
       "0                 66.67              85.71           14          2         1   \n",
       "430               66.67              92.31           27          2         1   \n",
       "904               83.33              90.91           27          2         1   \n",
       "514               80.00              75.00           26          2         1   \n",
       "3                 50.00              60.00           23          3         1   \n",
       "896              100.00             100.00           21          1         1   \n",
       "\n",
       "                League  Level    Name_Normalized  \n",
       "0      Ecuador Serie A      3        brian heras  \n",
       "430        Peru Liga 1      3      angelo campos  \n",
       "904      Argentina LPF      2    tomas marchiori  \n",
       "514  Rumania Superliga      3  octavian valceanu  \n",
       "3      Ecuador Serie A      3    hernan galindez  \n",
       "896      Argentina LPF      2     sebastian meza  "
      ]
     },
     "metadata": {},
     "output_type": "display_data"
    },
    {
     "data": {
      "application/vnd.plotly.v1+json": {
       "config": {
        "plotlyServerURL": "https://plot.ly"
       },
       "data": [
        {
         "fill": "toself",
         "line": {
          "color": "blue"
         },
         "name": "Brian Heras",
         "r": [
          0.5067706481294203,
          2.1808745240198197,
          1.797427311518273,
          -0.7285184432138277,
          -1.5859134314662913,
          -0.33851170905057015,
          0.22591846776809224
         ],
         "theta": [
          "Saves",
          "Clean sheets",
          "Total duels won %",
          "Penalties saved",
          "Goals conceded inside the box",
          "Goals conceded outside the box",
          "Accurate long balls %"
         ],
         "type": "scatterpolar"
        },
        {
         "fill": "toself",
         "line": {
          "color": "green"
         },
         "name": "Ángelo Campos",
         "r": [
          0.32542946625808805,
          0.1293814223920736,
          1.3004131203673486,
          -0.7285184432138277,
          -1.4122500031635061,
          -0.23440614857869121,
          0.6950814870553643
         ],
         "theta": [
          "Saves",
          "Clean sheets",
          "Total duels won %",
          "Penalties saved",
          "Goals conceded inside the box",
          "Goals conceded outside the box",
          "Accurate long balls %"
         ],
         "type": "scatterpolar"
        },
        {
         "fill": "toself",
         "line": {
          "color": "red"
         },
         "name": "Tomás Marchiori",
         "r": [
          -0.10406280659506642,
          0.5068561530915788,
          1.0519060247918863,
          0.3760383777702157,
          -0.6597084805181038,
          -0.6508283904662077,
          0.5955620587217003
         ],
         "theta": [
          "Saves",
          "Clean sheets",
          "Total duels won %",
          "Penalties saved",
          "Goals conceded inside the box",
          "Goals conceded outside the box",
          "Accurate long balls %"
         ],
         "type": "scatterpolar"
        },
        {
         "fill": "toself",
         "line": {
          "color": "cyan"
         },
         "name": "Octavian Vâlceanu",
         "r": [
          0.09318549649304847,
          -0.11679774980325579,
          0.8033989292164242,
          -0.7285184432138277,
          -0.3413255286296645,
          -0.5467228299943286,
          -0.5354051589844343
         ],
         "theta": [
          "Saves",
          "Clean sheets",
          "Total duels won %",
          "Penalties saved",
          "Goals conceded inside the box",
          "Goals conceded outside the box",
          "Accurate long balls %"
         ],
         "type": "scatterpolar"
        },
        {
         "fill": "toself",
         "line": {
          "color": "magenta"
         },
         "name": "Hernán Galíndez",
         "r": [
          -0.643314215844028,
          1.9018714621984463,
          1.2175774218421946,
          -0.7285184432138277,
          -0.3413255286296645,
          -0.026195027634932765,
          -1.6016847482736876
         ],
         "theta": [
          "Saves",
          "Clean sheets",
          "Total duels won %",
          "Penalties saved",
          "Goals conceded inside the box",
          "Goals conceded outside the box",
          "Accurate long balls %"
         ],
         "type": "scatterpolar"
        },
        {
         "fill": "toself",
         "line": {
          "color": "yellow"
         },
         "name": "Sebastián Meza",
         "r": [
          0.38269510263850864,
          1.6064564555640506,
          1.6317559144679648,
          0.6521775830162266,
          -1.1806987654264594,
          -0.33851170905057015,
          1.241727489830988
         ],
         "theta": [
          "Saves",
          "Clean sheets",
          "Total duels won %",
          "Penalties saved",
          "Goals conceded inside the box",
          "Goals conceded outside the box",
          "Accurate long balls %"
         ],
         "type": "scatterpolar"
        }
       ],
       "layout": {
        "autosize": false,
        "height": 800,
        "polar": {
         "radialaxis": {
          "range": [
           -2,
           10
          ],
          "visible": true
         }
        },
        "showlegend": true,
        "template": {
         "data": {
          "bar": [
           {
            "error_x": {
             "color": "#2a3f5f"
            },
            "error_y": {
             "color": "#2a3f5f"
            },
            "marker": {
             "line": {
              "color": "#E5ECF6",
              "width": 0.5
             },
             "pattern": {
              "fillmode": "overlay",
              "size": 10,
              "solidity": 0.2
             }
            },
            "type": "bar"
           }
          ],
          "barpolar": [
           {
            "marker": {
             "line": {
              "color": "#E5ECF6",
              "width": 0.5
             },
             "pattern": {
              "fillmode": "overlay",
              "size": 10,
              "solidity": 0.2
             }
            },
            "type": "barpolar"
           }
          ],
          "carpet": [
           {
            "aaxis": {
             "endlinecolor": "#2a3f5f",
             "gridcolor": "white",
             "linecolor": "white",
             "minorgridcolor": "white",
             "startlinecolor": "#2a3f5f"
            },
            "baxis": {
             "endlinecolor": "#2a3f5f",
             "gridcolor": "white",
             "linecolor": "white",
             "minorgridcolor": "white",
             "startlinecolor": "#2a3f5f"
            },
            "type": "carpet"
           }
          ],
          "choropleth": [
           {
            "colorbar": {
             "outlinewidth": 0,
             "ticks": ""
            },
            "type": "choropleth"
           }
          ],
          "contour": [
           {
            "colorbar": {
             "outlinewidth": 0,
             "ticks": ""
            },
            "colorscale": [
             [
              0,
              "#0d0887"
             ],
             [
              0.1111111111111111,
              "#46039f"
             ],
             [
              0.2222222222222222,
              "#7201a8"
             ],
             [
              0.3333333333333333,
              "#9c179e"
             ],
             [
              0.4444444444444444,
              "#bd3786"
             ],
             [
              0.5555555555555556,
              "#d8576b"
             ],
             [
              0.6666666666666666,
              "#ed7953"
             ],
             [
              0.7777777777777778,
              "#fb9f3a"
             ],
             [
              0.8888888888888888,
              "#fdca26"
             ],
             [
              1,
              "#f0f921"
             ]
            ],
            "type": "contour"
           }
          ],
          "contourcarpet": [
           {
            "colorbar": {
             "outlinewidth": 0,
             "ticks": ""
            },
            "type": "contourcarpet"
           }
          ],
          "heatmap": [
           {
            "colorbar": {
             "outlinewidth": 0,
             "ticks": ""
            },
            "colorscale": [
             [
              0,
              "#0d0887"
             ],
             [
              0.1111111111111111,
              "#46039f"
             ],
             [
              0.2222222222222222,
              "#7201a8"
             ],
             [
              0.3333333333333333,
              "#9c179e"
             ],
             [
              0.4444444444444444,
              "#bd3786"
             ],
             [
              0.5555555555555556,
              "#d8576b"
             ],
             [
              0.6666666666666666,
              "#ed7953"
             ],
             [
              0.7777777777777778,
              "#fb9f3a"
             ],
             [
              0.8888888888888888,
              "#fdca26"
             ],
             [
              1,
              "#f0f921"
             ]
            ],
            "type": "heatmap"
           }
          ],
          "heatmapgl": [
           {
            "colorbar": {
             "outlinewidth": 0,
             "ticks": ""
            },
            "colorscale": [
             [
              0,
              "#0d0887"
             ],
             [
              0.1111111111111111,
              "#46039f"
             ],
             [
              0.2222222222222222,
              "#7201a8"
             ],
             [
              0.3333333333333333,
              "#9c179e"
             ],
             [
              0.4444444444444444,
              "#bd3786"
             ],
             [
              0.5555555555555556,
              "#d8576b"
             ],
             [
              0.6666666666666666,
              "#ed7953"
             ],
             [
              0.7777777777777778,
              "#fb9f3a"
             ],
             [
              0.8888888888888888,
              "#fdca26"
             ],
             [
              1,
              "#f0f921"
             ]
            ],
            "type": "heatmapgl"
           }
          ],
          "histogram": [
           {
            "marker": {
             "pattern": {
              "fillmode": "overlay",
              "size": 10,
              "solidity": 0.2
             }
            },
            "type": "histogram"
           }
          ],
          "histogram2d": [
           {
            "colorbar": {
             "outlinewidth": 0,
             "ticks": ""
            },
            "colorscale": [
             [
              0,
              "#0d0887"
             ],
             [
              0.1111111111111111,
              "#46039f"
             ],
             [
              0.2222222222222222,
              "#7201a8"
             ],
             [
              0.3333333333333333,
              "#9c179e"
             ],
             [
              0.4444444444444444,
              "#bd3786"
             ],
             [
              0.5555555555555556,
              "#d8576b"
             ],
             [
              0.6666666666666666,
              "#ed7953"
             ],
             [
              0.7777777777777778,
              "#fb9f3a"
             ],
             [
              0.8888888888888888,
              "#fdca26"
             ],
             [
              1,
              "#f0f921"
             ]
            ],
            "type": "histogram2d"
           }
          ],
          "histogram2dcontour": [
           {
            "colorbar": {
             "outlinewidth": 0,
             "ticks": ""
            },
            "colorscale": [
             [
              0,
              "#0d0887"
             ],
             [
              0.1111111111111111,
              "#46039f"
             ],
             [
              0.2222222222222222,
              "#7201a8"
             ],
             [
              0.3333333333333333,
              "#9c179e"
             ],
             [
              0.4444444444444444,
              "#bd3786"
             ],
             [
              0.5555555555555556,
              "#d8576b"
             ],
             [
              0.6666666666666666,
              "#ed7953"
             ],
             [
              0.7777777777777778,
              "#fb9f3a"
             ],
             [
              0.8888888888888888,
              "#fdca26"
             ],
             [
              1,
              "#f0f921"
             ]
            ],
            "type": "histogram2dcontour"
           }
          ],
          "mesh3d": [
           {
            "colorbar": {
             "outlinewidth": 0,
             "ticks": ""
            },
            "type": "mesh3d"
           }
          ],
          "parcoords": [
           {
            "line": {
             "colorbar": {
              "outlinewidth": 0,
              "ticks": ""
             }
            },
            "type": "parcoords"
           }
          ],
          "pie": [
           {
            "automargin": true,
            "type": "pie"
           }
          ],
          "scatter": [
           {
            "fillpattern": {
             "fillmode": "overlay",
             "size": 10,
             "solidity": 0.2
            },
            "type": "scatter"
           }
          ],
          "scatter3d": [
           {
            "line": {
             "colorbar": {
              "outlinewidth": 0,
              "ticks": ""
             }
            },
            "marker": {
             "colorbar": {
              "outlinewidth": 0,
              "ticks": ""
             }
            },
            "type": "scatter3d"
           }
          ],
          "scattercarpet": [
           {
            "marker": {
             "colorbar": {
              "outlinewidth": 0,
              "ticks": ""
             }
            },
            "type": "scattercarpet"
           }
          ],
          "scattergeo": [
           {
            "marker": {
             "colorbar": {
              "outlinewidth": 0,
              "ticks": ""
             }
            },
            "type": "scattergeo"
           }
          ],
          "scattergl": [
           {
            "marker": {
             "colorbar": {
              "outlinewidth": 0,
              "ticks": ""
             }
            },
            "type": "scattergl"
           }
          ],
          "scattermapbox": [
           {
            "marker": {
             "colorbar": {
              "outlinewidth": 0,
              "ticks": ""
             }
            },
            "type": "scattermapbox"
           }
          ],
          "scatterpolar": [
           {
            "marker": {
             "colorbar": {
              "outlinewidth": 0,
              "ticks": ""
             }
            },
            "type": "scatterpolar"
           }
          ],
          "scatterpolargl": [
           {
            "marker": {
             "colorbar": {
              "outlinewidth": 0,
              "ticks": ""
             }
            },
            "type": "scatterpolargl"
           }
          ],
          "scatterternary": [
           {
            "marker": {
             "colorbar": {
              "outlinewidth": 0,
              "ticks": ""
             }
            },
            "type": "scatterternary"
           }
          ],
          "surface": [
           {
            "colorbar": {
             "outlinewidth": 0,
             "ticks": ""
            },
            "colorscale": [
             [
              0,
              "#0d0887"
             ],
             [
              0.1111111111111111,
              "#46039f"
             ],
             [
              0.2222222222222222,
              "#7201a8"
             ],
             [
              0.3333333333333333,
              "#9c179e"
             ],
             [
              0.4444444444444444,
              "#bd3786"
             ],
             [
              0.5555555555555556,
              "#d8576b"
             ],
             [
              0.6666666666666666,
              "#ed7953"
             ],
             [
              0.7777777777777778,
              "#fb9f3a"
             ],
             [
              0.8888888888888888,
              "#fdca26"
             ],
             [
              1,
              "#f0f921"
             ]
            ],
            "type": "surface"
           }
          ],
          "table": [
           {
            "cells": {
             "fill": {
              "color": "#EBF0F8"
             },
             "line": {
              "color": "white"
             }
            },
            "header": {
             "fill": {
              "color": "#C8D4E3"
             },
             "line": {
              "color": "white"
             }
            },
            "type": "table"
           }
          ]
         },
         "layout": {
          "annotationdefaults": {
           "arrowcolor": "#2a3f5f",
           "arrowhead": 0,
           "arrowwidth": 1
          },
          "autotypenumbers": "strict",
          "coloraxis": {
           "colorbar": {
            "outlinewidth": 0,
            "ticks": ""
           }
          },
          "colorscale": {
           "diverging": [
            [
             0,
             "#8e0152"
            ],
            [
             0.1,
             "#c51b7d"
            ],
            [
             0.2,
             "#de77ae"
            ],
            [
             0.3,
             "#f1b6da"
            ],
            [
             0.4,
             "#fde0ef"
            ],
            [
             0.5,
             "#f7f7f7"
            ],
            [
             0.6,
             "#e6f5d0"
            ],
            [
             0.7,
             "#b8e186"
            ],
            [
             0.8,
             "#7fbc41"
            ],
            [
             0.9,
             "#4d9221"
            ],
            [
             1,
             "#276419"
            ]
           ],
           "sequential": [
            [
             0,
             "#0d0887"
            ],
            [
             0.1111111111111111,
             "#46039f"
            ],
            [
             0.2222222222222222,
             "#7201a8"
            ],
            [
             0.3333333333333333,
             "#9c179e"
            ],
            [
             0.4444444444444444,
             "#bd3786"
            ],
            [
             0.5555555555555556,
             "#d8576b"
            ],
            [
             0.6666666666666666,
             "#ed7953"
            ],
            [
             0.7777777777777778,
             "#fb9f3a"
            ],
            [
             0.8888888888888888,
             "#fdca26"
            ],
            [
             1,
             "#f0f921"
            ]
           ],
           "sequentialminus": [
            [
             0,
             "#0d0887"
            ],
            [
             0.1111111111111111,
             "#46039f"
            ],
            [
             0.2222222222222222,
             "#7201a8"
            ],
            [
             0.3333333333333333,
             "#9c179e"
            ],
            [
             0.4444444444444444,
             "#bd3786"
            ],
            [
             0.5555555555555556,
             "#d8576b"
            ],
            [
             0.6666666666666666,
             "#ed7953"
            ],
            [
             0.7777777777777778,
             "#fb9f3a"
            ],
            [
             0.8888888888888888,
             "#fdca26"
            ],
            [
             1,
             "#f0f921"
            ]
           ]
          },
          "colorway": [
           "#636efa",
           "#EF553B",
           "#00cc96",
           "#ab63fa",
           "#FFA15A",
           "#19d3f3",
           "#FF6692",
           "#B6E880",
           "#FF97FF",
           "#FECB52"
          ],
          "font": {
           "color": "#2a3f5f"
          },
          "geo": {
           "bgcolor": "white",
           "lakecolor": "white",
           "landcolor": "#E5ECF6",
           "showlakes": true,
           "showland": true,
           "subunitcolor": "white"
          },
          "hoverlabel": {
           "align": "left"
          },
          "hovermode": "closest",
          "mapbox": {
           "style": "light"
          },
          "paper_bgcolor": "white",
          "plot_bgcolor": "#E5ECF6",
          "polar": {
           "angularaxis": {
            "gridcolor": "white",
            "linecolor": "white",
            "ticks": ""
           },
           "bgcolor": "#E5ECF6",
           "radialaxis": {
            "gridcolor": "white",
            "linecolor": "white",
            "ticks": ""
           }
          },
          "scene": {
           "xaxis": {
            "backgroundcolor": "#E5ECF6",
            "gridcolor": "white",
            "gridwidth": 2,
            "linecolor": "white",
            "showbackground": true,
            "ticks": "",
            "zerolinecolor": "white"
           },
           "yaxis": {
            "backgroundcolor": "#E5ECF6",
            "gridcolor": "white",
            "gridwidth": 2,
            "linecolor": "white",
            "showbackground": true,
            "ticks": "",
            "zerolinecolor": "white"
           },
           "zaxis": {
            "backgroundcolor": "#E5ECF6",
            "gridcolor": "white",
            "gridwidth": 2,
            "linecolor": "white",
            "showbackground": true,
            "ticks": "",
            "zerolinecolor": "white"
           }
          },
          "shapedefaults": {
           "line": {
            "color": "#2a3f5f"
           }
          },
          "ternary": {
           "aaxis": {
            "gridcolor": "white",
            "linecolor": "white",
            "ticks": ""
           },
           "baxis": {
            "gridcolor": "white",
            "linecolor": "white",
            "ticks": ""
           },
           "bgcolor": "#E5ECF6",
           "caxis": {
            "gridcolor": "white",
            "linecolor": "white",
            "ticks": ""
           }
          },
          "title": {
           "x": 0.05
          },
          "xaxis": {
           "automargin": true,
           "gridcolor": "white",
           "linecolor": "white",
           "ticks": "",
           "title": {
            "standoff": 15
           },
           "zerolinecolor": "white",
           "zerolinewidth": 2
          },
          "yaxis": {
           "automargin": true,
           "gridcolor": "white",
           "linecolor": "white",
           "ticks": "",
           "title": {
            "standoff": 15
           },
           "zerolinecolor": "white",
           "zerolinewidth": 2
          }
         }
        },
        "width": 800
       }
      }
     },
     "metadata": {},
     "output_type": "display_data"
    },
    {
     "data": {
      "image/png": "[encoded data removed]",
      "text/plain": [
       "<Figure size 2000x1200 with 4 Axes>"
      ]
     },
     "metadata": {},
     "output_type": "display_data"
    }
   ],
   "source": [
    "buscar_jugadores_similares('Brian Heras', caracteristicas_grafico)"
   ]
  }
 ],
 "metadata": {
  "kernelspec": {
   "display_name": "upp",
   "language": "python",
   "name": "python3"
  },
  "language_info": {
   "codemirror_mode": {
    "name": "ipython",
    "version": 3
   },
   "file_extension": ".py",
   "mimetype": "text/x-python",
   "name": "python",
   "nbconvert_exporter": "python",
   "pygments_lexer": "ipython3",
   "version": "3.11.6"
  }
 },
 "nbformat": 4,
 "nbformat_minor": 2
}
