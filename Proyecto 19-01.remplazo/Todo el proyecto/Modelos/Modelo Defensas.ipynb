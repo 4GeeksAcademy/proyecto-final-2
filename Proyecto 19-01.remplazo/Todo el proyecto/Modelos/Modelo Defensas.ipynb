{
 "cells": [
  {
   "cell_type": "code",
   "execution_count": 6,
   "metadata": {},
   "outputs": [],
   "source": [
    "import pandas as pd"
   ]
  },
  {
   "cell_type": "code",
   "execution_count": 7,
   "metadata": {},
   "outputs": [],
   "source": [
    "Data = pd.read_csv(r\"D:\\ALGORITMO RECLUTADOR\\Proyecto 19-01.remplazo\\Todo el proyecto\\Data Posición\\Defensas.csv\")\n",
    "pd.set_option('display.max_columns', None)"
   ]
  },
  {
   "cell_type": "code",
   "execution_count": 8,
   "metadata": {},
   "outputs": [
    {
     "name": "stdout",
     "output_type": "stream",
     "text": [
      "1.3340090891128236\n",
      "0.0\n",
      "4.62\n",
      "----------------------------------------------------------------------------------------------------\n",
      "1.1030784429954554\n",
      "0.0\n",
      "3.38\n",
      "----------------------------------------------------------------------------------------------------\n",
      "0.007812685240071133\n",
      "0.0\n",
      "0.15\n",
      "----------------------------------------------------------------------------------------------------\n",
      "55.9931673582296\n",
      "24.44\n",
      "90.91\n"
     ]
    }
   ],
   "source": [
    "Tackles_media = Data[\"Tackles\"].mean()\n",
    "Tackles_min = Data[\"Tackles\"].min()\n",
    "Tackles_max = Data[\"Tackles\"].max()\n",
    "print(Tackles_media)\n",
    "print(Tackles_min)\n",
    "print(Tackles_max)\n",
    "\n",
    "print(\"-\"*100)\n",
    "\n",
    "Interceptions_media = Data[\"Interceptions\"].mean()\n",
    "Interceptions_min = Data[\"Interceptions\"].min()\n",
    "Interceptions_max = Data[\"Interceptions\"].max()\n",
    "print(Interceptions_media)\n",
    "print(Interceptions_min)\n",
    "print(Interceptions_max)\n",
    "\n",
    "print(\"-\"*100)\n",
    "\n",
    "Errors_media = Data[\"Errors lead to goal\"].mean()\n",
    "Errors_min = Data[\"Errors lead to goal\"].min()\n",
    "Errors_max = Data[\"Errors lead to goal\"].max()\n",
    "print(Errors_media)\n",
    "print(Errors_min)\n",
    "print(Errors_max)\n",
    "\n",
    "print(\"-\"*100)\n",
    "\n",
    "duels_won_def_media = Data[\"Total duels won %\"].mean()\n",
    "duels_won_def_min = Data[\"Total duels won %\"].min()\n",
    "duels_won_def_max = Data[\"Total duels won %\"].max()\n",
    "print(duels_won_def_media)\n",
    "print(duels_won_def_min)\n",
    "print(duels_won_def_max)"
   ]
  },
  {
   "cell_type": "code",
   "execution_count": 9,
   "metadata": {},
   "outputs": [],
   "source": [
    "import pandas as pd\n",
    "from sklearn.neighbors import NearestNeighbors\n",
    "from sklearn.preprocessing import StandardScaler\n",
    "import plotly.graph_objects as go\n",
    "import unicodedata\n",
    "import matplotlib.pyplot as plt\n",
    "\n",
    "Columna_habilidades = Data.columns.drop([\"Name\", \"League\"])\n",
    "features = Data[Columna_habilidades]\n",
    "\n",
    "# Crea un objeto StandardScaler\n",
    "scaler = StandardScaler()\n",
    "\n",
    "# Ajusta el escalador a tus datos y luego transforma tus datos\n",
    "features_scaled = scaler.fit_transform(features)\n",
    "\n",
    "# Inicializa el modelo NearestNeighbors\n",
    "model = NearestNeighbors(n_neighbors=6)  # Buscamos 6 vecinos porque uno de ellos será el jugador mismo\n",
    "\n",
    "# Ajusta el modelo a tus datos\n",
    "model.fit(features_scaled)\n",
    "caracteristicas_grafico = ['Tackles', 'Interceptions', 'Penalty committed', 'Clearances', 'Errors lead to goal', 'Dribbled past']\n",
    "\n",
    "# Función para normalizar nombres (ignorar mayúsculas y acentos)\n",
    "def normalizar_nombre(nombre):\n",
    "    nombre = nombre.lower()\n",
    "    nombre = unicodedata.normalize('NFD', nombre)\n",
    "    nombre = nombre.encode('ascii', 'ignore').decode(\"utf-8\")\n",
    "    return nombre\n",
    "def buscar_jugadores_similares(nombre, caracteristicas_grafico):\n",
    "    # Normaliza el nombre que buscas\n",
    "    nombre_normalizado = normalizar_nombre(nombre)\n",
    "\n",
    "    # Aplica la normalización a los nombres en el conjunto de datos\n",
    "    Data['Name_Normalized'] = Data['Name'].apply(normalizar_nombre)\n",
    "\n",
    "    # Busca el jugador con el nombre normalizado\n",
    "    jugador = Data[Data['Name_Normalized'] == nombre_normalizado]\n",
    "    if len(jugador) == 0:\n",
    "        return 'Jugador no encontrado'\n",
    "    else:\n",
    "        jugador_scaled = scaler.transform(jugador[features.columns])\n",
    "        distancias, indices = model.kneighbors(jugador_scaled)\n",
    "        jugadores_similares = Data.iloc[indices[0]]  # Excluimos el primer resultado porque será el jugador mismo\n",
    "        display(jugadores_similares)\n",
    "\n",
    "        # Escala todas las características de los jugadores similares\n",
    "        jugadores_similares_scaled = scaler.transform(jugadores_similares[features.columns])\n",
    "\n",
    "         # Define una lista de colores\n",
    "        colores = ['blue', 'green', 'red', 'cyan', 'magenta', 'yellow', 'black']\n",
    "\n",
    "        # Crea un gráfico de radar para cada jugador similar\n",
    "        fig = go.Figure()\n",
    "        for i, row in enumerate(jugadores_similares_scaled):\n",
    "            color = colores[i % len(colores)]  # Elige un color de la lista\n",
    "            fig.add_trace(go.Scatterpolar(\n",
    "                r=row[features.columns.isin(caracteristicas_grafico)],\n",
    "                theta=caracteristicas_grafico,\n",
    "                fill='toself',\n",
    "                name=jugadores_similares.iloc[i]['Name'],\n",
    "                line=dict(color=color)\n",
    "            ))\n",
    "        fig.update_layout(\n",
    "            autosize=False,\n",
    "            width=800,\n",
    "            height=800,\n",
    "            polar=dict(\n",
    "                radialaxis=dict(\n",
    "                    visible=True,\n",
    "                    range=[-2, 3]  # Ajusta este rango según tus datos\n",
    "                )),\n",
    "            showlegend=True\n",
    "        )\n",
    "        fig.show()\n",
    "\n",
    "       # Configura una cuadrícula de subplots con 2 filas y 2 columnas\n",
    "        fig, axs = plt.subplots(2, 2, figsize=(20, 12))  # Ajusta el tamaño según sea necesario\n",
    "\n",
    "        # Gráfico de dispersión para la media-Goals\n",
    "        for i, name in enumerate(jugadores_similares['Name']):\n",
    "            axs[0, 0].scatter(i, jugadores_similares.loc[jugadores_similares['Name'] == name, 'Tackles'], color=colores[i % len(colores)], marker='o')\n",
    "        for line in [Tackles_max, Tackles_media, Tackles_min]:\n",
    "            axs[0, 0].axhline(y=line, color='r', linestyle='--')\n",
    "        axs[0, 0].set_title('Comparativa de Tackles de los jugadores similares')\n",
    "        axs[0, 0].set_xticks(range(len(jugadores_similares)))\n",
    "        axs[0, 0].set_xticklabels(jugadores_similares['Name'], rotation=45)\n",
    "        axs[0, 0].set_xlabel('Jugadores')\n",
    "        axs[0, 0].set_ylabel('Tackles')\n",
    "\n",
    "        # Gráfico de dispersión para la media-Successful\n",
    "        for i, name in enumerate(jugadores_similares['Name']):\n",
    "            axs[0, 1].scatter(i, jugadores_similares.loc[jugadores_similares['Name'] == name, 'Interceptions'], color=colores[i % len(colores)], marker='o')\n",
    "        for line in [Interceptions_max, Interceptions_media, Interceptions_min]:\n",
    "            axs[0, 1].axhline(y=line, color='r', linestyle='--')\n",
    "        axs[0, 1].set_title('Media de Interceptions de los jugadores similares')\n",
    "        axs[0, 1].set_xticks(range(len(jugadores_similares)))\n",
    "        axs[0, 1].set_xticklabels(jugadores_similares['Name'], rotation=45)\n",
    "        axs[0, 1].set_xlabel('Jugadores')\n",
    "        axs[0, 1].set_ylabel('Interceptions')\n",
    "\n",
    "        # Gráfico de dispersión para la media-shots\n",
    "        for i, name in enumerate(jugadores_similares['Name']):\n",
    "            axs[1, 0].scatter(i, jugadores_similares.loc[jugadores_similares['Name'] == name, 'Errors lead to goal'], color=colores[i % len(colores)], marker='o')\n",
    "        for line in [Errors_max, Errors_media, Errors_min]:\n",
    "            axs[1, 0].axhline(y=line, color='r', linestyle='--')\n",
    "        axs[1, 0].set_title('Media de Errors lead to goal de los jugadores similares')\n",
    "        axs[1, 0].set_xticks(range(len(jugadores_similares)))\n",
    "        axs[1, 0].set_xticklabels(jugadores_similares['Name'], rotation=45)\n",
    "        axs[1, 0].set_xlabel('Jugadores')\n",
    "        axs[1, 0].set_ylabel('Errors lead to goal')\n",
    "\n",
    "        # Gráfico de dispersión para la media-missed\n",
    "        for i, name in enumerate(jugadores_similares['Name']):\n",
    "            axs[1, 1].scatter(i, jugadores_similares.loc[jugadores_similares['Name'] == name, 'Total duels won %'], color=colores[i % len(colores)], marker='o')\n",
    "        for line in [duels_won_def_max, duels_won_def_media, duels_won_def_min]:\n",
    "            axs[1, 1].axhline(y=line, color='r', linestyle='--')\n",
    "        axs[1, 1].set_title('Media de Total duels won % de los jugadores similares')\n",
    "        axs[1, 1].set_xticks(range(len(jugadores_similares)))\n",
    "        axs[1, 1].set_xticklabels(jugadores_similares['Name'], rotation=45)\n",
    "        axs[1, 1].set_xlabel('Jugadores')\n",
    "        axs[1, 1].set_ylabel('Duels won %')\n",
    "\n",
    "        # Ajusta el layout para que no haya superposición de elementos\n",
    "        plt.tight_layout()\n",
    "        plt.show()\n",
    "        return \n",
    "    "
   ]
  },
  {
   "cell_type": "code",
   "execution_count": 10,
   "metadata": {},
   "outputs": [
    {
     "data": {
      "text/html": [
       "<div>\n",
       "<style scoped>\n",
       "    .dataframe tbody tr th:only-of-type {\n",
       "        vertical-align: middle;\n",
       "    }\n",
       "\n",
       "    .dataframe tbody tr th {\n",
       "        vertical-align: top;\n",
       "    }\n",
       "\n",
       "    .dataframe thead th {\n",
       "        text-align: right;\n",
       "    }\n",
       "</style>\n",
       "<table border=\"1\" class=\"dataframe\">\n",
       "  <thead>\n",
       "    <tr style=\"text-align: right;\">\n",
       "      <th></th>\n",
       "      <th>Name</th>\n",
       "      <th>Goals</th>\n",
       "      <th>Tackles</th>\n",
       "      <th>Interceptions</th>\n",
       "      <th>Penalty committed</th>\n",
       "      <th>Clearances</th>\n",
       "      <th>Errors lead to goal</th>\n",
       "      <th>Dribbled past</th>\n",
       "      <th>Big chances created</th>\n",
       "      <th>Total passes</th>\n",
       "      <th>Accurate passes %</th>\n",
       "      <th>Accurate long balls %</th>\n",
       "      <th>Goals conceded inside the box</th>\n",
       "      <th>Aerial duels won %</th>\n",
       "      <th>Total duels won %</th>\n",
       "      <th>Fouls</th>\n",
       "      <th>Appearances</th>\n",
       "      <th>Age Range</th>\n",
       "      <th>Position</th>\n",
       "      <th>League</th>\n",
       "      <th>Level</th>\n",
       "      <th>Name_Normalized</th>\n",
       "    </tr>\n",
       "  </thead>\n",
       "  <tbody>\n",
       "    <tr>\n",
       "      <th>4346</th>\n",
       "      <td>Benjamín Rojas</td>\n",
       "      <td>0.00</td>\n",
       "      <td>0.85</td>\n",
       "      <td>0.90</td>\n",
       "      <td>0.0</td>\n",
       "      <td>0.50</td>\n",
       "      <td>0.0</td>\n",
       "      <td>0.35</td>\n",
       "      <td>0.0</td>\n",
       "      <td>15.00</td>\n",
       "      <td>74.00</td>\n",
       "      <td>44.44</td>\n",
       "      <td>0.65</td>\n",
       "      <td>43.75</td>\n",
       "      <td>44.79</td>\n",
       "      <td>1.00</td>\n",
       "      <td>20</td>\n",
       "      <td>1</td>\n",
       "      <td>2</td>\n",
       "      <td>Chile Primera</td>\n",
       "      <td>3</td>\n",
       "      <td>benjamin rojas</td>\n",
       "    </tr>\n",
       "    <tr>\n",
       "      <th>2725</th>\n",
       "      <td>Eldar Šehić</td>\n",
       "      <td>0.00</td>\n",
       "      <td>1.25</td>\n",
       "      <td>0.79</td>\n",
       "      <td>0.0</td>\n",
       "      <td>0.63</td>\n",
       "      <td>0.0</td>\n",
       "      <td>0.29</td>\n",
       "      <td>0.0</td>\n",
       "      <td>15.92</td>\n",
       "      <td>69.90</td>\n",
       "      <td>34.21</td>\n",
       "      <td>0.67</td>\n",
       "      <td>40.00</td>\n",
       "      <td>49.46</td>\n",
       "      <td>1.13</td>\n",
       "      <td>24</td>\n",
       "      <td>1</td>\n",
       "      <td>2</td>\n",
       "      <td>Republica Checa 1. Liga</td>\n",
       "      <td>3</td>\n",
       "      <td>eldar sehic</td>\n",
       "    </tr>\n",
       "    <tr>\n",
       "      <th>2747</th>\n",
       "      <td>Denis Donát</td>\n",
       "      <td>0.05</td>\n",
       "      <td>0.70</td>\n",
       "      <td>0.90</td>\n",
       "      <td>0.0</td>\n",
       "      <td>0.70</td>\n",
       "      <td>0.0</td>\n",
       "      <td>0.25</td>\n",
       "      <td>0.0</td>\n",
       "      <td>14.55</td>\n",
       "      <td>68.38</td>\n",
       "      <td>38.78</td>\n",
       "      <td>0.50</td>\n",
       "      <td>42.11</td>\n",
       "      <td>41.43</td>\n",
       "      <td>0.80</td>\n",
       "      <td>20</td>\n",
       "      <td>1</td>\n",
       "      <td>2</td>\n",
       "      <td>Republica Checa 1. Liga</td>\n",
       "      <td>3</td>\n",
       "      <td>denis donat</td>\n",
       "    </tr>\n",
       "    <tr>\n",
       "      <th>4586</th>\n",
       "      <td>Edilberto Gómez</td>\n",
       "      <td>0.00</td>\n",
       "      <td>1.29</td>\n",
       "      <td>0.57</td>\n",
       "      <td>0.0</td>\n",
       "      <td>0.86</td>\n",
       "      <td>0.0</td>\n",
       "      <td>0.57</td>\n",
       "      <td>0.0</td>\n",
       "      <td>15.43</td>\n",
       "      <td>77.78</td>\n",
       "      <td>45.83</td>\n",
       "      <td>0.64</td>\n",
       "      <td>45.45</td>\n",
       "      <td>40.28</td>\n",
       "      <td>1.21</td>\n",
       "      <td>14</td>\n",
       "      <td>1</td>\n",
       "      <td>2</td>\n",
       "      <td>Colombia Primera</td>\n",
       "      <td>3</td>\n",
       "      <td>edilberto gomez</td>\n",
       "    </tr>\n",
       "    <tr>\n",
       "      <th>4191</th>\n",
       "      <td>Tim Sechelmann</td>\n",
       "      <td>0.00</td>\n",
       "      <td>0.73</td>\n",
       "      <td>0.82</td>\n",
       "      <td>0.0</td>\n",
       "      <td>1.18</td>\n",
       "      <td>0.0</td>\n",
       "      <td>0.45</td>\n",
       "      <td>0.0</td>\n",
       "      <td>25.00</td>\n",
       "      <td>80.36</td>\n",
       "      <td>40.00</td>\n",
       "      <td>0.73</td>\n",
       "      <td>45.45</td>\n",
       "      <td>46.30</td>\n",
       "      <td>0.82</td>\n",
       "      <td>11</td>\n",
       "      <td>1</td>\n",
       "      <td>2</td>\n",
       "      <td>Alemania Bundesliga 2</td>\n",
       "      <td>3</td>\n",
       "      <td>tim sechelmann</td>\n",
       "    </tr>\n",
       "    <tr>\n",
       "      <th>2409</th>\n",
       "      <td>Piero Serra</td>\n",
       "      <td>0.00</td>\n",
       "      <td>1.19</td>\n",
       "      <td>0.69</td>\n",
       "      <td>0.0</td>\n",
       "      <td>0.81</td>\n",
       "      <td>0.0</td>\n",
       "      <td>0.42</td>\n",
       "      <td>0.0</td>\n",
       "      <td>12.00</td>\n",
       "      <td>73.08</td>\n",
       "      <td>50.00</td>\n",
       "      <td>0.58</td>\n",
       "      <td>42.31</td>\n",
       "      <td>49.14</td>\n",
       "      <td>0.96</td>\n",
       "      <td>26</td>\n",
       "      <td>2</td>\n",
       "      <td>2</td>\n",
       "      <td>Peru Liga 1</td>\n",
       "      <td>3</td>\n",
       "      <td>piero serra</td>\n",
       "    </tr>\n",
       "  </tbody>\n",
       "</table>\n",
       "</div>"
      ],
      "text/plain": [
       "                 Name  Goals  Tackles  Interceptions  Penalty committed  \\\n",
       "4346   Benjamín Rojas   0.00     0.85           0.90                0.0   \n",
       "2725      Eldar Šehić   0.00     1.25           0.79                0.0   \n",
       "2747      Denis Donát   0.05     0.70           0.90                0.0   \n",
       "4586  Edilberto Gómez   0.00     1.29           0.57                0.0   \n",
       "4191   Tim Sechelmann   0.00     0.73           0.82                0.0   \n",
       "2409      Piero Serra   0.00     1.19           0.69                0.0   \n",
       "\n",
       "      Clearances  Errors lead to goal  Dribbled past  Big chances created  \\\n",
       "4346        0.50                  0.0           0.35                  0.0   \n",
       "2725        0.63                  0.0           0.29                  0.0   \n",
       "2747        0.70                  0.0           0.25                  0.0   \n",
       "4586        0.86                  0.0           0.57                  0.0   \n",
       "4191        1.18                  0.0           0.45                  0.0   \n",
       "2409        0.81                  0.0           0.42                  0.0   \n",
       "\n",
       "      Total passes  Accurate passes %  Accurate long balls %  \\\n",
       "4346         15.00              74.00                  44.44   \n",
       "2725         15.92              69.90                  34.21   \n",
       "2747         14.55              68.38                  38.78   \n",
       "4586         15.43              77.78                  45.83   \n",
       "4191         25.00              80.36                  40.00   \n",
       "2409         12.00              73.08                  50.00   \n",
       "\n",
       "      Goals conceded inside the box  Aerial duels won %  Total duels won %  \\\n",
       "4346                           0.65               43.75              44.79   \n",
       "2725                           0.67               40.00              49.46   \n",
       "2747                           0.50               42.11              41.43   \n",
       "4586                           0.64               45.45              40.28   \n",
       "4191                           0.73               45.45              46.30   \n",
       "2409                           0.58               42.31              49.14   \n",
       "\n",
       "      Fouls  Appearances  Age Range  Position                   League  Level  \\\n",
       "4346   1.00           20          1         2            Chile Primera      3   \n",
       "2725   1.13           24          1         2  Republica Checa 1. Liga      3   \n",
       "2747   0.80           20          1         2  Republica Checa 1. Liga      3   \n",
       "4586   1.21           14          1         2         Colombia Primera      3   \n",
       "4191   0.82           11          1         2    Alemania Bundesliga 2      3   \n",
       "2409   0.96           26          2         2              Peru Liga 1      3   \n",
       "\n",
       "      Name_Normalized  \n",
       "4346   benjamin rojas  \n",
       "2725      eldar sehic  \n",
       "2747      denis donat  \n",
       "4586  edilberto gomez  \n",
       "4191   tim sechelmann  \n",
       "2409      piero serra  "
      ]
     },
     "metadata": {},
     "output_type": "display_data"
    },
    {
     "data": {
      "application/vnd.plotly.v1+json": {
       "config": {
        "plotlyServerURL": "https://plot.ly"
       },
       "data": [
        {
         "fill": "toself",
         "line": {
          "color": "blue"
         },
         "name": "Benjamín Rojas",
         "r": [
          -0.8651808691289975,
          -0.4392793793279906,
          -0.6214167300860092,
          -1.5269719376403514,
          -0.3998574772925422,
          -0.46176718122933275
         ],
         "theta": [
          "Tackles",
          "Interceptions",
          "Penalty committed",
          "Clearances",
          "Errors lead to goal",
          "Dribbled past"
         ],
         "type": "scatterpolar"
        },
        {
         "fill": "toself",
         "line": {
          "color": "green"
         },
         "name": "Eldar Šehić",
         "r": [
          -0.15016878477756337,
          -0.6772205956054874,
          -0.6214167300860092,
          -1.4243317993758338,
          -0.3998574772925422,
          -0.6694669964477403
         ],
         "theta": [
          "Tackles",
          "Interceptions",
          "Penalty committed",
          "Clearances",
          "Errors lead to goal",
          "Dribbled past"
         ],
         "type": "scatterpolar"
        },
        {
         "fill": "toself",
         "line": {
          "color": "red"
         },
         "name": "Denis Donát",
         "r": [
          -1.1333104007607853,
          -0.4392793793279906,
          -0.6214167300860092,
          -1.3690640326180166,
          -0.3998574772925422,
          -0.8079335399266787
         ],
         "theta": [
          "Tackles",
          "Interceptions",
          "Penalty committed",
          "Clearances",
          "Errors lead to goal",
          "Dribbled past"
         ],
         "type": "scatterpolar"
        },
        {
         "fill": "toself",
         "line": {
          "color": "cyan"
         },
         "name": "Edilberto Gómez",
         "r": [
          -0.0786675763424199,
          -1.1531030281604813,
          -0.6214167300860092,
          -1.2427377086001488,
          -0.3998574772925422,
          0.29979880790482843
         ],
         "theta": [
          "Tackles",
          "Interceptions",
          "Penalty committed",
          "Clearances",
          "Errors lead to goal",
          "Dribbled past"
         ],
         "type": "scatterpolar"
        },
        {
         "fill": "toself",
         "line": {
          "color": "magenta"
         },
         "name": "Tim Sechelmann",
         "r": [
          -1.0796844944344277,
          -0.6123275366207157,
          -0.6214167300860092,
          -0.9900850605644127,
          -0.3998574772925422,
          -0.1156008225319866
         ],
         "theta": [
          "Tackles",
          "Interceptions",
          "Penalty committed",
          "Clearances",
          "Errors lead to goal",
          "Dribbled past"
         ],
         "type": "scatterpolar"
        },
        {
         "fill": "toself",
         "line": {
          "color": "yellow"
         },
         "name": "Piero Serra",
         "r": [
          -0.25742059743027856,
          -0.8935307922213938,
          -0.6214167300860092,
          -1.2822146848557323,
          -0.3998574772925422,
          -0.21945073014119051
         ],
         "theta": [
          "Tackles",
          "Interceptions",
          "Penalty committed",
          "Clearances",
          "Errors lead to goal",
          "Dribbled past"
         ],
         "type": "scatterpolar"
        }
       ],
       "layout": {
        "autosize": false,
        "height": 800,
        "polar": {
         "radialaxis": {
          "range": [
           -2,
           3
          ],
          "visible": true
         }
        },
        "showlegend": true,
        "template": {
         "data": {
          "bar": [
           {
            "error_x": {
             "color": "#2a3f5f"
            },
            "error_y": {
             "color": "#2a3f5f"
            },
            "marker": {
             "line": {
              "color": "#E5ECF6",
              "width": 0.5
             },
             "pattern": {
              "fillmode": "overlay",
              "size": 10,
              "solidity": 0.2
             }
            },
            "type": "bar"
           }
          ],
          "barpolar": [
           {
            "marker": {
             "line": {
              "color": "#E5ECF6",
              "width": 0.5
             },
             "pattern": {
              "fillmode": "overlay",
              "size": 10,
              "solidity": 0.2
             }
            },
            "type": "barpolar"
           }
          ],
          "carpet": [
           {
            "aaxis": {
             "endlinecolor": "#2a3f5f",
             "gridcolor": "white",
             "linecolor": "white",
             "minorgridcolor": "white",
             "startlinecolor": "#2a3f5f"
            },
            "baxis": {
             "endlinecolor": "#2a3f5f",
             "gridcolor": "white",
             "linecolor": "white",
             "minorgridcolor": "white",
             "startlinecolor": "#2a3f5f"
            },
            "type": "carpet"
           }
          ],
          "choropleth": [
           {
            "colorbar": {
             "outlinewidth": 0,
             "ticks": ""
            },
            "type": "choropleth"
           }
          ],
          "contour": [
           {
            "colorbar": {
             "outlinewidth": 0,
             "ticks": ""
            },
            "colorscale": [
             [
              0,
              "#0d0887"
             ],
             [
              0.1111111111111111,
              "#46039f"
             ],
             [
              0.2222222222222222,
              "#7201a8"
             ],
             [
              0.3333333333333333,
              "#9c179e"
             ],
             [
              0.4444444444444444,
              "#bd3786"
             ],
             [
              0.5555555555555556,
              "#d8576b"
             ],
             [
              0.6666666666666666,
              "#ed7953"
             ],
             [
              0.7777777777777778,
              "#fb9f3a"
             ],
             [
              0.8888888888888888,
              "#fdca26"
             ],
             [
              1,
              "#f0f921"
             ]
            ],
            "type": "contour"
           }
          ],
          "contourcarpet": [
           {
            "colorbar": {
             "outlinewidth": 0,
             "ticks": ""
            },
            "type": "contourcarpet"
           }
          ],
          "heatmap": [
           {
            "colorbar": {
             "outlinewidth": 0,
             "ticks": ""
            },
            "colorscale": [
             [
              0,
              "#0d0887"
             ],
             [
              0.1111111111111111,
              "#46039f"
             ],
             [
              0.2222222222222222,
              "#7201a8"
             ],
             [
              0.3333333333333333,
              "#9c179e"
             ],
             [
              0.4444444444444444,
              "#bd3786"
             ],
             [
              0.5555555555555556,
              "#d8576b"
             ],
             [
              0.6666666666666666,
              "#ed7953"
             ],
             [
              0.7777777777777778,
              "#fb9f3a"
             ],
             [
              0.8888888888888888,
              "#fdca26"
             ],
             [
              1,
              "#f0f921"
             ]
            ],
            "type": "heatmap"
           }
          ],
          "heatmapgl": [
           {
            "colorbar": {
             "outlinewidth": 0,
             "ticks": ""
            },
            "colorscale": [
             [
              0,
              "#0d0887"
             ],
             [
              0.1111111111111111,
              "#46039f"
             ],
             [
              0.2222222222222222,
              "#7201a8"
             ],
             [
              0.3333333333333333,
              "#9c179e"
             ],
             [
              0.4444444444444444,
              "#bd3786"
             ],
             [
              0.5555555555555556,
              "#d8576b"
             ],
             [
              0.6666666666666666,
              "#ed7953"
             ],
             [
              0.7777777777777778,
              "#fb9f3a"
             ],
             [
              0.8888888888888888,
              "#fdca26"
             ],
             [
              1,
              "#f0f921"
             ]
            ],
            "type": "heatmapgl"
           }
          ],
          "histogram": [
           {
            "marker": {
             "pattern": {
              "fillmode": "overlay",
              "size": 10,
              "solidity": 0.2
             }
            },
            "type": "histogram"
           }
          ],
          "histogram2d": [
           {
            "colorbar": {
             "outlinewidth": 0,
             "ticks": ""
            },
            "colorscale": [
             [
              0,
              "#0d0887"
             ],
             [
              0.1111111111111111,
              "#46039f"
             ],
             [
              0.2222222222222222,
              "#7201a8"
             ],
             [
              0.3333333333333333,
              "#9c179e"
             ],
             [
              0.4444444444444444,
              "#bd3786"
             ],
             [
              0.5555555555555556,
              "#d8576b"
             ],
             [
              0.6666666666666666,
              "#ed7953"
             ],
             [
              0.7777777777777778,
              "#fb9f3a"
             ],
             [
              0.8888888888888888,
              "#fdca26"
             ],
             [
              1,
              "#f0f921"
             ]
            ],
            "type": "histogram2d"
           }
          ],
          "histogram2dcontour": [
           {
            "colorbar": {
             "outlinewidth": 0,
             "ticks": ""
            },
            "colorscale": [
             [
              0,
              "#0d0887"
             ],
             [
              0.1111111111111111,
              "#46039f"
             ],
             [
              0.2222222222222222,
              "#7201a8"
             ],
             [
              0.3333333333333333,
              "#9c179e"
             ],
             [
              0.4444444444444444,
              "#bd3786"
             ],
             [
              0.5555555555555556,
              "#d8576b"
             ],
             [
              0.6666666666666666,
              "#ed7953"
             ],
             [
              0.7777777777777778,
              "#fb9f3a"
             ],
             [
              0.8888888888888888,
              "#fdca26"
             ],
             [
              1,
              "#f0f921"
             ]
            ],
            "type": "histogram2dcontour"
           }
          ],
          "mesh3d": [
           {
            "colorbar": {
             "outlinewidth": 0,
             "ticks": ""
            },
            "type": "mesh3d"
           }
          ],
          "parcoords": [
           {
            "line": {
             "colorbar": {
              "outlinewidth": 0,
              "ticks": ""
             }
            },
            "type": "parcoords"
           }
          ],
          "pie": [
           {
            "automargin": true,
            "type": "pie"
           }
          ],
          "scatter": [
           {
            "fillpattern": {
             "fillmode": "overlay",
             "size": 10,
             "solidity": 0.2
            },
            "type": "scatter"
           }
          ],
          "scatter3d": [
           {
            "line": {
             "colorbar": {
              "outlinewidth": 0,
              "ticks": ""
             }
            },
            "marker": {
             "colorbar": {
              "outlinewidth": 0,
              "ticks": ""
             }
            },
            "type": "scatter3d"
           }
          ],
          "scattercarpet": [
           {
            "marker": {
             "colorbar": {
              "outlinewidth": 0,
              "ticks": ""
             }
            },
            "type": "scattercarpet"
           }
          ],
          "scattergeo": [
           {
            "marker": {
             "colorbar": {
              "outlinewidth": 0,
              "ticks": ""
             }
            },
            "type": "scattergeo"
           }
          ],
          "scattergl": [
           {
            "marker": {
             "colorbar": {
              "outlinewidth": 0,
              "ticks": ""
             }
            },
            "type": "scattergl"
           }
          ],
          "scattermapbox": [
           {
            "marker": {
             "colorbar": {
              "outlinewidth": 0,
              "ticks": ""
             }
            },
            "type": "scattermapbox"
           }
          ],
          "scatterpolar": [
           {
            "marker": {
             "colorbar": {
              "outlinewidth": 0,
              "ticks": ""
             }
            },
            "type": "scatterpolar"
           }
          ],
          "scatterpolargl": [
           {
            "marker": {
             "colorbar": {
              "outlinewidth": 0,
              "ticks": ""
             }
            },
            "type": "scatterpolargl"
           }
          ],
          "scatterternary": [
           {
            "marker": {
             "colorbar": {
              "outlinewidth": 0,
              "ticks": ""
             }
            },
            "type": "scatterternary"
           }
          ],
          "surface": [
           {
            "colorbar": {
             "outlinewidth": 0,
             "ticks": ""
            },
            "colorscale": [
             [
              0,
              "#0d0887"
             ],
             [
              0.1111111111111111,
              "#46039f"
             ],
             [
              0.2222222222222222,
              "#7201a8"
             ],
             [
              0.3333333333333333,
              "#9c179e"
             ],
             [
              0.4444444444444444,
              "#bd3786"
             ],
             [
              0.5555555555555556,
              "#d8576b"
             ],
             [
              0.6666666666666666,
              "#ed7953"
             ],
             [
              0.7777777777777778,
              "#fb9f3a"
             ],
             [
              0.8888888888888888,
              "#fdca26"
             ],
             [
              1,
              "#f0f921"
             ]
            ],
            "type": "surface"
           }
          ],
          "table": [
           {
            "cells": {
             "fill": {
              "color": "#EBF0F8"
             },
             "line": {
              "color": "white"
             }
            },
            "header": {
             "fill": {
              "color": "#C8D4E3"
             },
             "line": {
              "color": "white"
             }
            },
            "type": "table"
           }
          ]
         },
         "layout": {
          "annotationdefaults": {
           "arrowcolor": "#2a3f5f",
           "arrowhead": 0,
           "arrowwidth": 1
          },
          "autotypenumbers": "strict",
          "coloraxis": {
           "colorbar": {
            "outlinewidth": 0,
            "ticks": ""
           }
          },
          "colorscale": {
           "diverging": [
            [
             0,
             "#8e0152"
            ],
            [
             0.1,
             "#c51b7d"
            ],
            [
             0.2,
             "#de77ae"
            ],
            [
             0.3,
             "#f1b6da"
            ],
            [
             0.4,
             "#fde0ef"
            ],
            [
             0.5,
             "#f7f7f7"
            ],
            [
             0.6,
             "#e6f5d0"
            ],
            [
             0.7,
             "#b8e186"
            ],
            [
             0.8,
             "#7fbc41"
            ],
            [
             0.9,
             "#4d9221"
            ],
            [
             1,
             "#276419"
            ]
           ],
           "sequential": [
            [
             0,
             "#0d0887"
            ],
            [
             0.1111111111111111,
             "#46039f"
            ],
            [
             0.2222222222222222,
             "#7201a8"
            ],
            [
             0.3333333333333333,
             "#9c179e"
            ],
            [
             0.4444444444444444,
             "#bd3786"
            ],
            [
             0.5555555555555556,
             "#d8576b"
            ],
            [
             0.6666666666666666,
             "#ed7953"
            ],
            [
             0.7777777777777778,
             "#fb9f3a"
            ],
            [
             0.8888888888888888,
             "#fdca26"
            ],
            [
             1,
             "#f0f921"
            ]
           ],
           "sequentialminus": [
            [
             0,
             "#0d0887"
            ],
            [
             0.1111111111111111,
             "#46039f"
            ],
            [
             0.2222222222222222,
             "#7201a8"
            ],
            [
             0.3333333333333333,
             "#9c179e"
            ],
            [
             0.4444444444444444,
             "#bd3786"
            ],
            [
             0.5555555555555556,
             "#d8576b"
            ],
            [
             0.6666666666666666,
             "#ed7953"
            ],
            [
             0.7777777777777778,
             "#fb9f3a"
            ],
            [
             0.8888888888888888,
             "#fdca26"
            ],
            [
             1,
             "#f0f921"
            ]
           ]
          },
          "colorway": [
           "#636efa",
           "#EF553B",
           "#00cc96",
           "#ab63fa",
           "#FFA15A",
           "#19d3f3",
           "#FF6692",
           "#B6E880",
           "#FF97FF",
           "#FECB52"
          ],
          "font": {
           "color": "#2a3f5f"
          },
          "geo": {
           "bgcolor": "white",
           "lakecolor": "white",
           "landcolor": "#E5ECF6",
           "showlakes": true,
           "showland": true,
           "subunitcolor": "white"
          },
          "hoverlabel": {
           "align": "left"
          },
          "hovermode": "closest",
          "mapbox": {
           "style": "light"
          },
          "paper_bgcolor": "white",
          "plot_bgcolor": "#E5ECF6",
          "polar": {
           "angularaxis": {
            "gridcolor": "white",
            "linecolor": "white",
            "ticks": ""
           },
           "bgcolor": "#E5ECF6",
           "radialaxis": {
            "gridcolor": "white",
            "linecolor": "white",
            "ticks": ""
           }
          },
          "scene": {
           "xaxis": {
            "backgroundcolor": "#E5ECF6",
            "gridcolor": "white",
            "gridwidth": 2,
            "linecolor": "white",
            "showbackground": true,
            "ticks": "",
            "zerolinecolor": "white"
           },
           "yaxis": {
            "backgroundcolor": "#E5ECF6",
            "gridcolor": "white",
            "gridwidth": 2,
            "linecolor": "white",
            "showbackground": true,
            "ticks": "",
            "zerolinecolor": "white"
           },
           "zaxis": {
            "backgroundcolor": "#E5ECF6",
            "gridcolor": "white",
            "gridwidth": 2,
            "linecolor": "white",
            "showbackground": true,
            "ticks": "",
            "zerolinecolor": "white"
           }
          },
          "shapedefaults": {
           "line": {
            "color": "#2a3f5f"
           }
          },
          "ternary": {
           "aaxis": {
            "gridcolor": "white",
            "linecolor": "white",
            "ticks": ""
           },
           "baxis": {
            "gridcolor": "white",
            "linecolor": "white",
            "ticks": ""
           },
           "bgcolor": "#E5ECF6",
           "caxis": {
            "gridcolor": "white",
            "linecolor": "white",
            "ticks": ""
           }
          },
          "title": {
           "x": 0.05
          },
          "xaxis": {
           "automargin": true,
           "gridcolor": "white",
           "linecolor": "white",
           "ticks": "",
           "title": {
            "standoff": 15
           },
           "zerolinecolor": "white",
           "zerolinewidth": 2
          },
          "yaxis": {
           "automargin": true,
           "gridcolor": "white",
           "linecolor": "white",
           "ticks": "",
           "title": {
            "standoff": 15
           },
           "zerolinecolor": "white",
           "zerolinewidth": 2
          }
         }
        },
        "width": 800
       }
      }
     },
     "metadata": {},
     "output_type": "display_data"
    },
    {
     "data": {
      "image/png": "[encoded data removed]",
      "text/plain": [
       "<Figure size 2000x1200 with 4 Axes>"
      ]
     },
     "metadata": {},
     "output_type": "display_data"
    }
   ],
   "source": [
    "buscar_jugadores_similares('Benjamín Rojas', caracteristicas_grafico)"
   ]
  }
 ],
 "metadata": {
  "kernelspec": {
   "display_name": "upp",
   "language": "python",
   "name": "python3"
  },
  "language_info": {
   "codemirror_mode": {
    "name": "ipython",
    "version": 3
   },
   "file_extension": ".py",
   "mimetype": "text/x-python",
   "name": "python",
   "nbconvert_exporter": "python",
   "pygments_lexer": "ipython3",
   "version": "3.11.6"
  }
 },
 "nbformat": 4,
 "nbformat_minor": 2
}
